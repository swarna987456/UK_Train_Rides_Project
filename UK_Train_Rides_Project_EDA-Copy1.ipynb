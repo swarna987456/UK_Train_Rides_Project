{
 "cells": [
  {
   "cell_type": "markdown",
   "id": "e178eade",
   "metadata": {},
   "source": [
    "**Objective**\n",
    "\n",
    "For the Maven Rail Challenge, a company that provides business services to passenger train operators in England, Scotland, and Wales.\n",
    "\n",
    "The manager requested to create an exploratory dashboard that helps them:\n",
    "\n",
    "1. Identify the most popular routes\n",
    "2. Determine peak travel times\n",
    "3. Analyze revenue from different ticket types & classes\n",
    "4. Diagnose on-time performance and contributing factors"
   ]
  },
  {
   "cell_type": "markdown",
   "id": "dbdfdd24",
   "metadata": {},
   "source": [
    "### Import required tools and data"
   ]
  },
  {
   "cell_type": "code",
   "execution_count": 1,
   "id": "4ef0cb68",
   "metadata": {},
   "outputs": [],
   "source": [
    "import numpy as np\n",
    "import pandas as pd\n",
    "import matplotlib.pyplot as plt\n",
    "import seaborn as sns\n",
    "\n",
    "%matplotlib inline\n",
    "plt.style.use('ggplot')\n",
    "pd.options.display.max_columns = 20 #expand no of columns"
   ]
  },
  {
   "cell_type": "code",
   "execution_count": 90,
   "id": "407503b5",
   "metadata": {},
   "outputs": [
    {
     "data": {
      "text/html": [
       "<div>\n",
       "<style scoped>\n",
       "    .dataframe tbody tr th:only-of-type {\n",
       "        vertical-align: middle;\n",
       "    }\n",
       "\n",
       "    .dataframe tbody tr th {\n",
       "        vertical-align: top;\n",
       "    }\n",
       "\n",
       "    .dataframe thead th {\n",
       "        text-align: right;\n",
       "    }\n",
       "</style>\n",
       "<table border=\"1\" class=\"dataframe\">\n",
       "  <thead>\n",
       "    <tr style=\"text-align: right;\">\n",
       "      <th></th>\n",
       "      <th>Transaction ID</th>\n",
       "      <th>Date of Purchase</th>\n",
       "      <th>Time of Purchase</th>\n",
       "      <th>Purchase Type</th>\n",
       "      <th>Payment Method</th>\n",
       "      <th>Railcard</th>\n",
       "      <th>Ticket Class</th>\n",
       "      <th>Ticket Type</th>\n",
       "      <th>Price</th>\n",
       "      <th>Departure Station</th>\n",
       "      <th>Arrival Destination</th>\n",
       "      <th>Date of Journey</th>\n",
       "      <th>Departure Time</th>\n",
       "      <th>Arrival Time</th>\n",
       "      <th>Actual Arrival Time</th>\n",
       "      <th>Journey Status</th>\n",
       "      <th>Reason for Delay</th>\n",
       "      <th>Refund Request</th>\n",
       "    </tr>\n",
       "  </thead>\n",
       "  <tbody>\n",
       "    <tr>\n",
       "      <th>0</th>\n",
       "      <td>da8a6ba8-b3dc-4677-b176</td>\n",
       "      <td>2023-12-08</td>\n",
       "      <td>12:41:11</td>\n",
       "      <td>Online</td>\n",
       "      <td>Contactless</td>\n",
       "      <td>Adult</td>\n",
       "      <td>Standard</td>\n",
       "      <td>Advance</td>\n",
       "      <td>43</td>\n",
       "      <td>London Paddington</td>\n",
       "      <td>Liverpool Lime Street</td>\n",
       "      <td>2024-01-01</td>\n",
       "      <td>11:00:00</td>\n",
       "      <td>13:30:00</td>\n",
       "      <td>13:30:00</td>\n",
       "      <td>On Time</td>\n",
       "      <td>NaN</td>\n",
       "      <td>No</td>\n",
       "    </tr>\n",
       "    <tr>\n",
       "      <th>1</th>\n",
       "      <td>b0cdd1b0-f214-4197-be53</td>\n",
       "      <td>2023-12-16</td>\n",
       "      <td>11:23:01</td>\n",
       "      <td>Station</td>\n",
       "      <td>Credit Card</td>\n",
       "      <td>Adult</td>\n",
       "      <td>Standard</td>\n",
       "      <td>Advance</td>\n",
       "      <td>23</td>\n",
       "      <td>London Kings Cross</td>\n",
       "      <td>York</td>\n",
       "      <td>2024-01-01</td>\n",
       "      <td>09:45:00</td>\n",
       "      <td>11:35:00</td>\n",
       "      <td>11:40:00</td>\n",
       "      <td>Delayed</td>\n",
       "      <td>Signal Failure</td>\n",
       "      <td>No</td>\n",
       "    </tr>\n",
       "    <tr>\n",
       "      <th>2</th>\n",
       "      <td>f3ba7a96-f713-40d9-9629</td>\n",
       "      <td>2023-12-19</td>\n",
       "      <td>19:51:27</td>\n",
       "      <td>Online</td>\n",
       "      <td>Credit Card</td>\n",
       "      <td>None</td>\n",
       "      <td>Standard</td>\n",
       "      <td>Advance</td>\n",
       "      <td>3</td>\n",
       "      <td>Liverpool Lime Street</td>\n",
       "      <td>Manchester Piccadilly</td>\n",
       "      <td>2024-01-02</td>\n",
       "      <td>18:15:00</td>\n",
       "      <td>18:45:00</td>\n",
       "      <td>18:45:00</td>\n",
       "      <td>On Time</td>\n",
       "      <td>NaN</td>\n",
       "      <td>No</td>\n",
       "    </tr>\n",
       "    <tr>\n",
       "      <th>3</th>\n",
       "      <td>b2471f11-4fe7-4c87-8ab4</td>\n",
       "      <td>2023-12-20</td>\n",
       "      <td>23:00:36</td>\n",
       "      <td>Station</td>\n",
       "      <td>Credit Card</td>\n",
       "      <td>None</td>\n",
       "      <td>Standard</td>\n",
       "      <td>Advance</td>\n",
       "      <td>13</td>\n",
       "      <td>London Paddington</td>\n",
       "      <td>Reading</td>\n",
       "      <td>2024-01-01</td>\n",
       "      <td>21:30:00</td>\n",
       "      <td>22:30:00</td>\n",
       "      <td>22:30:00</td>\n",
       "      <td>On Time</td>\n",
       "      <td>NaN</td>\n",
       "      <td>No</td>\n",
       "    </tr>\n",
       "    <tr>\n",
       "      <th>4</th>\n",
       "      <td>2be00b45-0762-485e-a7a3</td>\n",
       "      <td>2023-12-27</td>\n",
       "      <td>18:22:56</td>\n",
       "      <td>Online</td>\n",
       "      <td>Contactless</td>\n",
       "      <td>None</td>\n",
       "      <td>Standard</td>\n",
       "      <td>Advance</td>\n",
       "      <td>76</td>\n",
       "      <td>Liverpool Lime Street</td>\n",
       "      <td>London Euston</td>\n",
       "      <td>2024-01-01</td>\n",
       "      <td>16:45:00</td>\n",
       "      <td>19:00:00</td>\n",
       "      <td>19:00:00</td>\n",
       "      <td>On Time</td>\n",
       "      <td>NaN</td>\n",
       "      <td>No</td>\n",
       "    </tr>\n",
       "  </tbody>\n",
       "</table>\n",
       "</div>"
      ],
      "text/plain": [
       "            Transaction ID Date of Purchase Time of Purchase Purchase Type  \\\n",
       "0  da8a6ba8-b3dc-4677-b176       2023-12-08         12:41:11        Online   \n",
       "1  b0cdd1b0-f214-4197-be53       2023-12-16         11:23:01       Station   \n",
       "2  f3ba7a96-f713-40d9-9629       2023-12-19         19:51:27        Online   \n",
       "3  b2471f11-4fe7-4c87-8ab4       2023-12-20         23:00:36       Station   \n",
       "4  2be00b45-0762-485e-a7a3       2023-12-27         18:22:56        Online   \n",
       "\n",
       "  Payment Method Railcard Ticket Class Ticket Type  Price  \\\n",
       "0    Contactless    Adult     Standard     Advance     43   \n",
       "1    Credit Card    Adult     Standard     Advance     23   \n",
       "2    Credit Card     None     Standard     Advance      3   \n",
       "3    Credit Card     None     Standard     Advance     13   \n",
       "4    Contactless     None     Standard     Advance     76   \n",
       "\n",
       "       Departure Station    Arrival Destination Date of Journey  \\\n",
       "0      London Paddington  Liverpool Lime Street      2024-01-01   \n",
       "1     London Kings Cross                   York      2024-01-01   \n",
       "2  Liverpool Lime Street  Manchester Piccadilly      2024-01-02   \n",
       "3      London Paddington                Reading      2024-01-01   \n",
       "4  Liverpool Lime Street          London Euston      2024-01-01   \n",
       "\n",
       "  Departure Time Arrival Time Actual Arrival Time Journey Status  \\\n",
       "0       11:00:00     13:30:00            13:30:00        On Time   \n",
       "1       09:45:00     11:35:00            11:40:00        Delayed   \n",
       "2       18:15:00     18:45:00            18:45:00        On Time   \n",
       "3       21:30:00     22:30:00            22:30:00        On Time   \n",
       "4       16:45:00     19:00:00            19:00:00        On Time   \n",
       "\n",
       "  Reason for Delay Refund Request  \n",
       "0              NaN             No  \n",
       "1   Signal Failure             No  \n",
       "2              NaN             No  \n",
       "3              NaN             No  \n",
       "4              NaN             No  "
      ]
     },
     "execution_count": 90,
     "metadata": {},
     "output_type": "execute_result"
    }
   ],
   "source": [
    "df = pd.read_csv('railway.csv')\n",
    "df.head()"
   ]
  },
  {
   "cell_type": "code",
   "execution_count": 82,
   "id": "1bbe9d3e",
   "metadata": {},
   "outputs": [],
   "source": [
    "df_copy = df.copy()"
   ]
  },
  {
   "cell_type": "code",
   "execution_count": 8,
   "id": "acc8764f",
   "metadata": {},
   "outputs": [
    {
     "data": {
      "text/plain": [
       "(31653, 18)"
      ]
     },
     "execution_count": 8,
     "metadata": {},
     "output_type": "execute_result"
    }
   ],
   "source": [
    "df.shape"
   ]
  },
  {
   "cell_type": "code",
   "execution_count": 9,
   "id": "cdbec09c",
   "metadata": {},
   "outputs": [
    {
     "data": {
      "text/plain": [
       "(31653,)"
      ]
     },
     "execution_count": 9,
     "metadata": {},
     "output_type": "execute_result"
    }
   ],
   "source": [
    "df['Transaction ID'].shape"
   ]
  },
  {
   "cell_type": "code",
   "execution_count": 10,
   "id": "23d45e44",
   "metadata": {},
   "outputs": [
    {
     "data": {
      "text/plain": [
       "Transaction ID         object\n",
       "Date of Purchase       object\n",
       "Time of Purchase       object\n",
       "Purchase Type          object\n",
       "Payment Method         object\n",
       "Railcard               object\n",
       "Ticket Class           object\n",
       "Ticket Type            object\n",
       "Price                   int64\n",
       "Departure Station      object\n",
       "Arrival Destination    object\n",
       "Date of Journey        object\n",
       "Departure Time         object\n",
       "Arrival Time           object\n",
       "Actual Arrival Time    object\n",
       "Journey Status         object\n",
       "Reason for Delay       object\n",
       "Refund Request         object\n",
       "dtype: object"
      ]
     },
     "execution_count": 10,
     "metadata": {},
     "output_type": "execute_result"
    }
   ],
   "source": [
    "df.dtypes"
   ]
  },
  {
   "cell_type": "code",
   "execution_count": 15,
   "id": "94048255",
   "metadata": {},
   "outputs": [
    {
     "data": {
      "text/plain": [
       "(Timestamp('2023-12-08 00:00:00'), Timestamp('2024-04-30 00:00:00'))"
      ]
     },
     "execution_count": 15,
     "metadata": {},
     "output_type": "execute_result"
    }
   ],
   "source": [
    "pd.to_datetime(df['Date of Purchase']).min(), pd.to_datetime(df['Date of Purchase']).max()"
   ]
  },
  {
   "cell_type": "code",
   "execution_count": 24,
   "id": "bc36a232",
   "metadata": {},
   "outputs": [
    {
     "data": {
      "text/plain": [
       "Timedelta('144 days 00:00:00')"
      ]
     },
     "execution_count": 24,
     "metadata": {},
     "output_type": "execute_result"
    }
   ],
   "source": [
    "pd.to_datetime(df['Date_of_Purchase']).max() - pd.to_datetime(df['Date_of_Purchase']).min()"
   ]
  },
  {
   "cell_type": "markdown",
   "id": "0e0edb5a",
   "metadata": {},
   "source": [
    "Observation: Each row represent Ticket Transaction for Mock train for National Rail in the UK, and collected from Jan to April 2024"
   ]
  },
  {
   "cell_type": "markdown",
   "id": "7553a866",
   "metadata": {},
   "source": [
    "## Data Cleaning"
   ]
  },
  {
   "cell_type": "markdown",
   "id": "475c6cfe",
   "metadata": {},
   "source": [
    "#### Correcting datatypes and columns names"
   ]
  },
  {
   "cell_type": "code",
   "execution_count": 16,
   "id": "d37a91dd",
   "metadata": {},
   "outputs": [
    {
     "data": {
      "text/plain": [
       "Index(['Transaction ID', 'Date of Purchase', 'Time of Purchase',\n",
       "       'Purchase Type', 'Payment Method', 'Railcard', 'Ticket Class',\n",
       "       'Ticket Type', 'Price', 'Departure Station', 'Arrival Destination',\n",
       "       'Date of Journey', 'Departure Time', 'Arrival Time',\n",
       "       'Actual Arrival Time', 'Journey Status', 'Reason for Delay',\n",
       "       'Refund Request'],\n",
       "      dtype='object')"
      ]
     },
     "execution_count": 16,
     "metadata": {},
     "output_type": "execute_result"
    }
   ],
   "source": [
    "df.columns"
   ]
  },
  {
   "cell_type": "code",
   "execution_count": 91,
   "id": "d945383e",
   "metadata": {},
   "outputs": [
    {
     "data": {
      "text/plain": [
       "Index(['Transaction_ID', 'Date_of_Purchase', 'Time_of_Purchase',\n",
       "       'Purchase_Type', 'Payment_Method', 'Railcard', 'Ticket_Class',\n",
       "       'Ticket_Type', 'Price', 'Departure_Station', 'Arrival_Destination',\n",
       "       'Date_of_Journey', 'Departure_Time', 'Arrival_Time',\n",
       "       'Actual_Arrival_Time', 'Journey_Status', 'Reason_for_Delay',\n",
       "       'Refund_Request'],\n",
       "      dtype='object')"
      ]
     },
     "execution_count": 91,
     "metadata": {},
     "output_type": "execute_result"
    }
   ],
   "source": [
    "#lets replace space with underscore\n",
    "df.columns = df.columns.str.replace(' ','_')\n",
    "df.columns"
   ]
  },
  {
   "cell_type": "code",
   "execution_count": 97,
   "id": "acb97a48",
   "metadata": {},
   "outputs": [
    {
     "data": {
      "text/html": [
       "<div>\n",
       "<style scoped>\n",
       "    .dataframe tbody tr th:only-of-type {\n",
       "        vertical-align: middle;\n",
       "    }\n",
       "\n",
       "    .dataframe tbody tr th {\n",
       "        vertical-align: top;\n",
       "    }\n",
       "\n",
       "    .dataframe thead th {\n",
       "        text-align: right;\n",
       "    }\n",
       "</style>\n",
       "<table border=\"1\" class=\"dataframe\">\n",
       "  <thead>\n",
       "    <tr style=\"text-align: right;\">\n",
       "      <th></th>\n",
       "      <th>Transaction_ID</th>\n",
       "      <th>Date_of_Purchase</th>\n",
       "      <th>Time_of_Purchase</th>\n",
       "      <th>Purchase_Type</th>\n",
       "      <th>Payment_Method</th>\n",
       "      <th>Railcard</th>\n",
       "      <th>Ticket_Class</th>\n",
       "      <th>Ticket_Type</th>\n",
       "      <th>Price</th>\n",
       "      <th>Departure_Station</th>\n",
       "      <th>Arrival_Destination</th>\n",
       "      <th>Date_of_Journey</th>\n",
       "      <th>Departure_Time</th>\n",
       "      <th>Arrival_Time</th>\n",
       "      <th>Actual_Arrival_Time</th>\n",
       "      <th>Journey_Status</th>\n",
       "      <th>Reason_for_Delay</th>\n",
       "      <th>Refund_Request</th>\n",
       "    </tr>\n",
       "  </thead>\n",
       "  <tbody>\n",
       "  </tbody>\n",
       "</table>\n",
       "</div>"
      ],
      "text/plain": [
       "Empty DataFrame\n",
       "Columns: [Transaction_ID, Date_of_Purchase, Time_of_Purchase, Purchase_Type, Payment_Method, Railcard, Ticket_Class, Ticket_Type, Price, Departure_Station, Arrival_Destination, Date_of_Journey, Departure_Time, Arrival_Time, Actual_Arrival_Time, Journey_Status, Reason_for_Delay, Refund_Request]\n",
       "Index: []"
      ]
     },
     "execution_count": 97,
     "metadata": {},
     "output_type": "execute_result"
    }
   ],
   "source": [
    "#check for duplicate rows\n",
    "df[df.duplicated(subset = 'Transaction_ID')]\n",
    "#no duplicated data found"
   ]
  },
  {
   "cell_type": "code",
   "execution_count": 84,
   "id": "9b26e1cc",
   "metadata": {},
   "outputs": [
    {
     "data": {
      "text/plain": [
       "Transaction_ID         object\n",
       "Date_of_Purchase       object\n",
       "Time_of_Purchase       object\n",
       "Purchase_Type          object\n",
       "Payment_Method         object\n",
       "Railcard               object\n",
       "Ticket_Class           object\n",
       "Ticket_Type            object\n",
       "Price                   int64\n",
       "Departure_Station      object\n",
       "Arrival_Destination    object\n",
       "Date_of_Journey        object\n",
       "Departure_Time         object\n",
       "Arrival_Time           object\n",
       "Actual_Arrival_Time    object\n",
       "Journey_Status         object\n",
       "Reason_for_Delay       object\n",
       "Refund_Request         object\n",
       "dtype: object"
      ]
     },
     "execution_count": 84,
     "metadata": {},
     "output_type": "execute_result"
    }
   ],
   "source": [
    "#datatypes\n",
    "df.dtypes"
   ]
  },
  {
   "cell_type": "code",
   "execution_count": 41,
   "id": "9140bb5c",
   "metadata": {},
   "outputs": [],
   "source": [
    "#(pd.to_datetime(df['Date_of_Journey']) - pd.to_datetime(df['Date_of_Purchase']))/np.timedelta64(1,\"D\")"
   ]
  },
  {
   "cell_type": "code",
   "execution_count": 92,
   "id": "714e205c",
   "metadata": {},
   "outputs": [],
   "source": [
    "#convert time columns to datetime datatype with pandas method\n",
    "df['Time_of_Purchase'] = pd.to_datetime(df['Date_of_Purchase'] +' '+ df['Time_of_Purchase'])\n",
    "df['Departure_Time'] = pd.to_datetime(df['Date_of_Journey'] +' '+ df['Departure_Time'])\n",
    "df['Arrival_Time'] = pd.to_datetime(df['Date_of_Journey'] +' '+ df['Arrival_Time'])\n",
    "df['Actual_Arrival_Time'] = pd.to_datetime(df['Date_of_Journey'] +' '+ df['Actual_Arrival_Time'])"
   ]
  },
  {
   "cell_type": "code",
   "execution_count": 93,
   "id": "635d1916",
   "metadata": {},
   "outputs": [],
   "source": [
    "#convert date columns to datetime datatype with pandas method\n",
    "df['Date_of_Purchase'] = pd.to_datetime(df['Date_of_Purchase'])\n",
    "df['Date_of_Journey'] = pd.to_datetime(df['Date_of_Journey'])"
   ]
  },
  {
   "cell_type": "code",
   "execution_count": 94,
   "id": "ac1c8d07",
   "metadata": {},
   "outputs": [
    {
     "data": {
      "text/plain": [
       "Transaction_ID                 object\n",
       "Date_of_Purchase       datetime64[ns]\n",
       "Time_of_Purchase       datetime64[ns]\n",
       "Purchase_Type                  object\n",
       "Payment_Method                 object\n",
       "Railcard                       object\n",
       "Ticket_Class                   object\n",
       "Ticket_Type                    object\n",
       "Price                           int64\n",
       "Departure_Station              object\n",
       "Arrival_Destination            object\n",
       "Date_of_Journey        datetime64[ns]\n",
       "Departure_Time         datetime64[ns]\n",
       "Arrival_Time           datetime64[ns]\n",
       "Actual_Arrival_Time    datetime64[ns]\n",
       "Journey_Status                 object\n",
       "Reason_for_Delay               object\n",
       "Refund_Request                 object\n",
       "dtype: object"
      ]
     },
     "execution_count": 94,
     "metadata": {},
     "output_type": "execute_result"
    }
   ],
   "source": [
    "df.dtypes"
   ]
  },
  {
   "cell_type": "code",
   "execution_count": 95,
   "id": "d197617b",
   "metadata": {},
   "outputs": [
    {
     "data": {
      "text/html": [
       "<div>\n",
       "<style scoped>\n",
       "    .dataframe tbody tr th:only-of-type {\n",
       "        vertical-align: middle;\n",
       "    }\n",
       "\n",
       "    .dataframe tbody tr th {\n",
       "        vertical-align: top;\n",
       "    }\n",
       "\n",
       "    .dataframe thead th {\n",
       "        text-align: right;\n",
       "    }\n",
       "</style>\n",
       "<table border=\"1\" class=\"dataframe\">\n",
       "  <thead>\n",
       "    <tr style=\"text-align: right;\">\n",
       "      <th></th>\n",
       "      <th>Transaction_ID</th>\n",
       "      <th>Date_of_Purchase</th>\n",
       "      <th>Time_of_Purchase</th>\n",
       "      <th>Purchase_Type</th>\n",
       "      <th>Payment_Method</th>\n",
       "      <th>Railcard</th>\n",
       "      <th>Ticket_Class</th>\n",
       "      <th>Ticket_Type</th>\n",
       "      <th>Price</th>\n",
       "      <th>Departure_Station</th>\n",
       "      <th>Arrival_Destination</th>\n",
       "      <th>Date_of_Journey</th>\n",
       "      <th>Departure_Time</th>\n",
       "      <th>Arrival_Time</th>\n",
       "      <th>Actual_Arrival_Time</th>\n",
       "      <th>Journey_Status</th>\n",
       "      <th>Reason_for_Delay</th>\n",
       "      <th>Refund_Request</th>\n",
       "    </tr>\n",
       "  </thead>\n",
       "  <tbody>\n",
       "    <tr>\n",
       "      <th>0</th>\n",
       "      <td>da8a6ba8-b3dc-4677-b176</td>\n",
       "      <td>2023-12-08</td>\n",
       "      <td>2023-12-08 12:41:11</td>\n",
       "      <td>Online</td>\n",
       "      <td>Contactless</td>\n",
       "      <td>Adult</td>\n",
       "      <td>Standard</td>\n",
       "      <td>Advance</td>\n",
       "      <td>43</td>\n",
       "      <td>London Paddington</td>\n",
       "      <td>Liverpool Lime Street</td>\n",
       "      <td>2024-01-01</td>\n",
       "      <td>2024-01-01 11:00:00</td>\n",
       "      <td>2024-01-01 13:30:00</td>\n",
       "      <td>2024-01-01 13:30:00</td>\n",
       "      <td>On Time</td>\n",
       "      <td>NaN</td>\n",
       "      <td>No</td>\n",
       "    </tr>\n",
       "  </tbody>\n",
       "</table>\n",
       "</div>"
      ],
      "text/plain": [
       "            Transaction_ID Date_of_Purchase    Time_of_Purchase Purchase_Type  \\\n",
       "0  da8a6ba8-b3dc-4677-b176       2023-12-08 2023-12-08 12:41:11        Online   \n",
       "\n",
       "  Payment_Method Railcard Ticket_Class Ticket_Type  Price  Departure_Station  \\\n",
       "0    Contactless    Adult     Standard     Advance     43  London Paddington   \n",
       "\n",
       "     Arrival_Destination Date_of_Journey      Departure_Time  \\\n",
       "0  Liverpool Lime Street      2024-01-01 2024-01-01 11:00:00   \n",
       "\n",
       "         Arrival_Time Actual_Arrival_Time Journey_Status Reason_for_Delay  \\\n",
       "0 2024-01-01 13:30:00 2024-01-01 13:30:00        On Time              NaN   \n",
       "\n",
       "  Refund_Request  \n",
       "0             No  "
      ]
     },
     "execution_count": 95,
     "metadata": {},
     "output_type": "execute_result"
    }
   ],
   "source": [
    "df.head(1)"
   ]
  },
  {
   "cell_type": "code",
   "execution_count": 102,
   "id": "f62bab0b",
   "metadata": {},
   "outputs": [
    {
     "data": {
      "text/plain": [
       "array(['Online', 'Station'], dtype=object)"
      ]
     },
     "execution_count": 102,
     "metadata": {},
     "output_type": "execute_result"
    }
   ],
   "source": [
    "#Lets change object and Categorical data to Categorical datatype\n",
    "df['Purchase_Type'].unique()"
   ]
  },
  {
   "cell_type": "code",
   "execution_count": 106,
   "id": "43f5d1fa",
   "metadata": {},
   "outputs": [],
   "source": [
    "df_copy = df.copy()"
   ]
  },
  {
   "cell_type": "code",
   "execution_count": 107,
   "id": "9a6dcdd7",
   "metadata": {},
   "outputs": [],
   "source": [
    "df['Purchase_Type'] = pd.Categorical(df['Purchase_Type'])"
   ]
  },
  {
   "cell_type": "code",
   "execution_count": 109,
   "id": "897f43ca",
   "metadata": {},
   "outputs": [
    {
     "data": {
      "text/plain": [
       "CategoricalDtype(categories=['Online', 'Station'], ordered=False)"
      ]
     },
     "execution_count": 109,
     "metadata": {},
     "output_type": "execute_result"
    }
   ],
   "source": [
    "df['Purchase_Type'].dtypes"
   ]
  },
  {
   "cell_type": "code",
   "execution_count": 123,
   "id": "c0305ad9",
   "metadata": {},
   "outputs": [
    {
     "name": "stdout",
     "output_type": "stream",
     "text": [
      "['Contactless', 'Credit Card', 'Debit Card']\n",
      "Categories (3, object): ['Contactless', 'Credit Card', 'Debit Card']\n",
      "category\n"
     ]
    }
   ],
   "source": [
    "#lets change other columns\n",
    "print(df['Payment_Method'].unique())\n",
    "df['Payment_Method'] = pd.Categorical(df['Payment_Method'])\n",
    "print(df['Payment_Method'].dtype)"
   ]
  },
  {
   "cell_type": "code",
   "execution_count": 122,
   "id": "4e01af3c",
   "metadata": {},
   "outputs": [
    {
     "name": "stdout",
     "output_type": "stream",
     "text": [
      "['Adult', 'None', 'Disabled', 'Senior']\n",
      "Categories (4, object): ['Adult', 'Disabled', 'None', 'Senior']\n",
      "category\n"
     ]
    }
   ],
   "source": [
    "print(df['Railcard'].unique())\n",
    "df['Railcard'] = pd.Categorical(df['Railcard'])\n",
    "print(df['Railcard'].dtype)"
   ]
  },
  {
   "cell_type": "code",
   "execution_count": 121,
   "id": "aa4ad653",
   "metadata": {},
   "outputs": [
    {
     "name": "stdout",
     "output_type": "stream",
     "text": [
      "['Standard', 'First Class']\n",
      "Categories (2, object): ['First Class', 'Standard']\n",
      "category\n"
     ]
    }
   ],
   "source": [
    "print(df['Ticket_Class'].unique())\n",
    "df['Ticket_Class'] = pd.Categorical(df['Ticket_Class'])\n",
    "print(df['Ticket_Class'].dtype)"
   ]
  },
  {
   "cell_type": "code",
   "execution_count": 127,
   "id": "e146dee0",
   "metadata": {},
   "outputs": [
    {
     "name": "stdout",
     "output_type": "stream",
     "text": [
      "['Advance' 'Off-Peak' 'Anytime']\n",
      "category\n"
     ]
    }
   ],
   "source": [
    "print(df['Ticket_Type'].unique())\n",
    "df['Ticket_Type'] = pd.Categorical(df['Ticket_Type'])\n",
    "print(df['Ticket_Type'].dtype)"
   ]
  },
  {
   "cell_type": "code",
   "execution_count": 129,
   "id": "5ebecdb6",
   "metadata": {},
   "outputs": [
    {
     "name": "stdout",
     "output_type": "stream",
     "text": [
      "['On Time' 'Delayed' 'Cancelled']\n",
      "category\n"
     ]
    }
   ],
   "source": [
    "print(df['Journey_Status'].unique())\n",
    "df['Journey_Status'] = pd.Categorical(df['Journey_Status'])\n",
    "print(df['Journey_Status'].dtype)"
   ]
  },
  {
   "cell_type": "code",
   "execution_count": 132,
   "id": "7b1fc3e3",
   "metadata": {},
   "outputs": [
    {
     "data": {
      "text/plain": [
       "NaN                   27481\n",
       "Weather                 995\n",
       "Technical Issue         707\n",
       "Signal Failure          523\n",
       "Signal failure          447\n",
       "Staffing                410\n",
       "Staff Shortage          399\n",
       "Weather Conditions      377\n",
       "Traffic                 314\n",
       "Name: Reason_for_Delay, dtype: int64"
      ]
     },
     "execution_count": 132,
     "metadata": {},
     "output_type": "execute_result"
    }
   ],
   "source": [
    "df['Reason_for_Delay'].value_counts(dropna = False)"
   ]
  },
  {
   "cell_type": "code",
   "execution_count": 134,
   "id": "ad8055e7",
   "metadata": {},
   "outputs": [
    {
     "name": "stdout",
     "output_type": "stream",
     "text": [
      "category\n"
     ]
    }
   ],
   "source": [
    "df['Reason_for_Delay'] = pd.Categorical(df['Reason_for_Delay'])\n",
    "print(df['Journey_Status'].dtype)"
   ]
  },
  {
   "cell_type": "code",
   "execution_count": 137,
   "id": "a59d2ec9",
   "metadata": {},
   "outputs": [
    {
     "data": {
      "text/plain": [
       "No     30535\n",
       "Yes     1118\n",
       "Name: Refund_Request, dtype: int64"
      ]
     },
     "execution_count": 137,
     "metadata": {},
     "output_type": "execute_result"
    }
   ],
   "source": [
    "df['Refund_Request'].value_counts()"
   ]
  },
  {
   "cell_type": "code",
   "execution_count": 138,
   "id": "b1decc41",
   "metadata": {},
   "outputs": [
    {
     "name": "stdout",
     "output_type": "stream",
     "text": [
      "category\n"
     ]
    }
   ],
   "source": [
    "df['Refund_Request'] = pd.Categorical(df['Refund_Request'])\n",
    "print(df['Refund_Request'].dtype)"
   ]
  },
  {
   "cell_type": "code",
   "execution_count": 139,
   "id": "a945a902",
   "metadata": {},
   "outputs": [
    {
     "data": {
      "text/plain": [
       "Transaction_ID                 object\n",
       "Date_of_Purchase       datetime64[ns]\n",
       "Time_of_Purchase       datetime64[ns]\n",
       "Purchase_Type                category\n",
       "Payment_Method               category\n",
       "Railcard                     category\n",
       "Ticket_Class                 category\n",
       "Ticket_Type                  category\n",
       "Price                           int64\n",
       "Departure_Station              object\n",
       "Arrival_Destination            object\n",
       "Date_of_Journey        datetime64[ns]\n",
       "Departure_Time         datetime64[ns]\n",
       "Arrival_Time           datetime64[ns]\n",
       "Actual_Arrival_Time    datetime64[ns]\n",
       "Journey_Status               category\n",
       "Reason_for_Delay             category\n",
       "Refund_Request               category\n",
       "dtype: object"
      ]
     },
     "execution_count": 139,
     "metadata": {},
     "output_type": "execute_result"
    }
   ],
   "source": [
    "df.dtypes"
   ]
  },
  {
   "cell_type": "code",
   "execution_count": 224,
   "id": "c579c237",
   "metadata": {},
   "outputs": [],
   "source": [
    "#lets save the data in a pickle file to not to lose the datatypes as csv wont recognize datetime and category\n",
    "import pickle\n",
    "\n",
    "with open('clean_data.pkl','wb') as f:\n",
    "    pickle.dump(df,f )"
   ]
  },
  {
   "cell_type": "code",
   "execution_count": 3,
   "id": "4f4f0759",
   "metadata": {},
   "outputs": [],
   "source": [
    "import pickle\n",
    "with open('clean_data.pkl','rb') as f:\n",
    "    df = pickle.load(f )"
   ]
  },
  {
   "cell_type": "code",
   "execution_count": 4,
   "id": "d89b020a",
   "metadata": {},
   "outputs": [
    {
     "data": {
      "text/plain": [
       "Transaction_ID             0\n",
       "Date_of_Purchase           0\n",
       "Time_of_Purchase           0\n",
       "Purchase_Type              0\n",
       "Payment_Method             0\n",
       "Railcard                   0\n",
       "Ticket_Class               0\n",
       "Ticket_Type                0\n",
       "Price                      0\n",
       "Departure_Station          0\n",
       "Arrival_Destination        0\n",
       "Date_of_Journey            0\n",
       "Departure_Time             0\n",
       "Arrival_Time               0\n",
       "Actual_Arrival_Time     1880\n",
       "Journey_Status             0\n",
       "Reason_for_Delay       27481\n",
       "Refund_Request             0\n",
       "dtype: int64"
      ]
     },
     "execution_count": 4,
     "metadata": {},
     "output_type": "execute_result"
    }
   ],
   "source": [
    "#checking missing values\n",
    "\n",
    "df.isnull().sum()"
   ]
  },
  {
   "cell_type": "markdown",
   "id": "3d25fd8b",
   "metadata": {},
   "source": [
    "Observation: There are some null values in the Actual Arrial Time, lets explore further and know what could be the reason"
   ]
  },
  {
   "cell_type": "code",
   "execution_count": 9,
   "id": "c8a9de63",
   "metadata": {},
   "outputs": [
    {
     "data": {
      "text/plain": [
       "['On Time', 'Delayed', 'Cancelled']\n",
       "Categories (3, object): ['Cancelled', 'Delayed', 'On Time']"
      ]
     },
     "execution_count": 9,
     "metadata": {},
     "output_type": "execute_result"
    }
   ],
   "source": [
    "df['Journey_Status'].unique()"
   ]
  },
  {
   "cell_type": "code",
   "execution_count": 12,
   "id": "162c75cc",
   "metadata": {},
   "outputs": [
    {
     "data": {
      "text/html": [
       "<div>\n",
       "<style scoped>\n",
       "    .dataframe tbody tr th:only-of-type {\n",
       "        vertical-align: middle;\n",
       "    }\n",
       "\n",
       "    .dataframe tbody tr th {\n",
       "        vertical-align: top;\n",
       "    }\n",
       "\n",
       "    .dataframe thead th {\n",
       "        text-align: right;\n",
       "    }\n",
       "</style>\n",
       "<table border=\"1\" class=\"dataframe\">\n",
       "  <thead>\n",
       "    <tr style=\"text-align: right;\">\n",
       "      <th></th>\n",
       "      <th>Arrival_Time</th>\n",
       "      <th>Actual_Arrival_Time</th>\n",
       "      <th>Journey_Status</th>\n",
       "    </tr>\n",
       "  </thead>\n",
       "  <tbody>\n",
       "    <tr>\n",
       "      <th>39</th>\n",
       "      <td>2024-01-02 03:35:00</td>\n",
       "      <td>NaT</td>\n",
       "      <td>Cancelled</td>\n",
       "    </tr>\n",
       "    <tr>\n",
       "      <th>75</th>\n",
       "      <td>2024-01-02 17:20:00</td>\n",
       "      <td>NaT</td>\n",
       "      <td>Cancelled</td>\n",
       "    </tr>\n",
       "    <tr>\n",
       "      <th>91</th>\n",
       "      <td>2024-01-02 03:35:00</td>\n",
       "      <td>NaT</td>\n",
       "      <td>Cancelled</td>\n",
       "    </tr>\n",
       "    <tr>\n",
       "      <th>111</th>\n",
       "      <td>2024-01-02 06:20:00</td>\n",
       "      <td>NaT</td>\n",
       "      <td>Cancelled</td>\n",
       "    </tr>\n",
       "    <tr>\n",
       "      <th>148</th>\n",
       "      <td>2024-01-02 10:15:00</td>\n",
       "      <td>NaT</td>\n",
       "      <td>Cancelled</td>\n",
       "    </tr>\n",
       "    <tr>\n",
       "      <th>...</th>\n",
       "      <td>...</td>\n",
       "      <td>...</td>\n",
       "      <td>...</td>\n",
       "    </tr>\n",
       "    <tr>\n",
       "      <th>31639</th>\n",
       "      <td>2024-04-30 20:35:00</td>\n",
       "      <td>NaT</td>\n",
       "      <td>Cancelled</td>\n",
       "    </tr>\n",
       "    <tr>\n",
       "      <th>31641</th>\n",
       "      <td>2024-04-30 20:35:00</td>\n",
       "      <td>NaT</td>\n",
       "      <td>Cancelled</td>\n",
       "    </tr>\n",
       "    <tr>\n",
       "      <th>31642</th>\n",
       "      <td>2024-04-30 19:15:00</td>\n",
       "      <td>NaT</td>\n",
       "      <td>Cancelled</td>\n",
       "    </tr>\n",
       "    <tr>\n",
       "      <th>31644</th>\n",
       "      <td>2024-04-30 20:05:00</td>\n",
       "      <td>NaT</td>\n",
       "      <td>Cancelled</td>\n",
       "    </tr>\n",
       "    <tr>\n",
       "      <th>31645</th>\n",
       "      <td>2024-04-30 19:15:00</td>\n",
       "      <td>NaT</td>\n",
       "      <td>Cancelled</td>\n",
       "    </tr>\n",
       "  </tbody>\n",
       "</table>\n",
       "<p>1880 rows × 3 columns</p>\n",
       "</div>"
      ],
      "text/plain": [
       "             Arrival_Time Actual_Arrival_Time Journey_Status\n",
       "39    2024-01-02 03:35:00                 NaT      Cancelled\n",
       "75    2024-01-02 17:20:00                 NaT      Cancelled\n",
       "91    2024-01-02 03:35:00                 NaT      Cancelled\n",
       "111   2024-01-02 06:20:00                 NaT      Cancelled\n",
       "148   2024-01-02 10:15:00                 NaT      Cancelled\n",
       "...                   ...                 ...            ...\n",
       "31639 2024-04-30 20:35:00                 NaT      Cancelled\n",
       "31641 2024-04-30 20:35:00                 NaT      Cancelled\n",
       "31642 2024-04-30 19:15:00                 NaT      Cancelled\n",
       "31644 2024-04-30 20:05:00                 NaT      Cancelled\n",
       "31645 2024-04-30 19:15:00                 NaT      Cancelled\n",
       "\n",
       "[1880 rows x 3 columns]"
      ]
     },
     "execution_count": 12,
     "metadata": {},
     "output_type": "execute_result"
    }
   ],
   "source": [
    "df[df['Actual_Arrival_Time'].isnull()][['Arrival_Time','Actual_Arrival_Time','Journey_Status']]"
   ]
  },
  {
   "cell_type": "code",
   "execution_count": 14,
   "id": "2eb534f1",
   "metadata": {},
   "outputs": [
    {
     "data": {
      "text/plain": [
       "['Cancelled']\n",
       "Categories (3, object): ['Cancelled', 'Delayed', 'On Time']"
      ]
     },
     "execution_count": 14,
     "metadata": {},
     "output_type": "execute_result"
    }
   ],
   "source": [
    "df[df['Actual_Arrival_Time'].isnull()]['Journey_Status'].unique()"
   ]
  },
  {
   "cell_type": "markdown",
   "id": "28c65bf5",
   "metadata": {},
   "source": [
    "Observation: From Journey Status column we understood that those trains were cancelled, hence they didn't actually arrived "
   ]
  },
  {
   "cell_type": "code",
   "execution_count": 17,
   "id": "a21e6c0b",
   "metadata": {},
   "outputs": [
    {
     "data": {
      "text/plain": [
       "[NaN, 'Signal Failure', 'Technical Issue', 'Weather Conditions', 'Weather', 'Staffing', 'Staff Shortage', 'Signal failure', 'Traffic']\n",
       "Categories (8, object): ['Signal Failure', 'Signal failure', 'Staff Shortage', 'Staffing', 'Technical Issue', 'Traffic', 'Weather', 'Weather Conditions']"
      ]
     },
     "execution_count": 17,
     "metadata": {},
     "output_type": "execute_result"
    }
   ],
   "source": [
    "df['Reason_for_Delay'].unique()"
   ]
  },
  {
   "cell_type": "code",
   "execution_count": 15,
   "id": "f82de062",
   "metadata": {},
   "outputs": [
    {
     "data": {
      "text/plain": [
       "['On Time']\n",
       "Categories (3, object): ['Cancelled', 'Delayed', 'On Time']"
      ]
     },
     "execution_count": 15,
     "metadata": {},
     "output_type": "execute_result"
    }
   ],
   "source": [
    "#lets explore the null values in Reason_for_Delay column\n",
    "df[df['Reason_for_Delay'].isnull()]['Journey_Status'].unique()"
   ]
  },
  {
   "cell_type": "markdown",
   "id": "0efd7e31",
   "metadata": {},
   "source": [
    "Observation: From the Journey Status columns, we understood that those Trains were not delayed they are On-Time. So, Lets replace null value with \"No Delay\""
   ]
  },
  {
   "cell_type": "code",
   "execution_count": 20,
   "id": "562c2742",
   "metadata": {},
   "outputs": [
    {
     "data": {
      "text/plain": [
       "0                   NaN\n",
       "1        Signal Failure\n",
       "2                   NaN\n",
       "3                   NaN\n",
       "4                   NaN\n",
       "              ...      \n",
       "31648               NaN\n",
       "31649               NaN\n",
       "31650               NaN\n",
       "31651               NaN\n",
       "31652               NaN\n",
       "Name: Reason_for_Delay, Length: 31653, dtype: category\n",
       "Categories (9, object): ['Signal Failure', 'Signal failure', 'Staff Shortage', 'Staffing', ..., 'Traffic', 'Weather', 'Weather Conditions', 'No Delay']"
      ]
     },
     "execution_count": 20,
     "metadata": {},
     "output_type": "execute_result"
    }
   ],
   "source": [
    "#since Reason for Delay is a categorical column, we need to add new category first\n",
    "\n",
    "# Add 'No Delay' to the categories\n",
    "df['Reason_for_Delay'] = df['Reason_for_Delay'].cat.add_categories('No Delay')\n",
    "df['Reason_for_Delay']"
   ]
  },
  {
   "cell_type": "code",
   "execution_count": 22,
   "id": "7c6fc084",
   "metadata": {},
   "outputs": [],
   "source": [
    "df['Reason_for_Delay'].fillna('No Delay', inplace = True)"
   ]
  },
  {
   "cell_type": "code",
   "execution_count": 27,
   "id": "7c94cfa3",
   "metadata": {},
   "outputs": [
    {
     "data": {
      "text/plain": [
       "array(['London Paddington', 'London Kings Cross', 'Liverpool Lime Street',\n",
       "       'London Euston', 'York', 'Manchester Piccadilly',\n",
       "       'Birmingham New Street', 'London St Pancras', 'Oxford', 'Reading',\n",
       "       'Edinburgh Waverley', 'Bristol Temple Meads'], dtype=object)"
      ]
     },
     "execution_count": 27,
     "metadata": {},
     "output_type": "execute_result"
    }
   ],
   "source": [
    "#spelling errors and other text data analysis \n",
    "df['Departure_Station'].unique()\n",
    "#Text looks fine"
   ]
  },
  {
   "cell_type": "code",
   "execution_count": 31,
   "id": "27f330ba",
   "metadata": {},
   "outputs": [
    {
     "data": {
      "text/plain": [
       "array(['Birmingham New Street', 'Bristol Temple Meads', 'Cardiff Central',\n",
       "       'Coventry', 'Crewe', 'Didcot', 'Doncaster', 'Durham', 'Edinburgh',\n",
       "       'Edinburgh Waverley', 'Leeds', 'Leicester',\n",
       "       'Liverpool Lime Street', 'London Euston', 'London Kings Cross',\n",
       "       'London Paddington', 'London St Pancras', 'London Waterloo',\n",
       "       'Manchester Piccadilly', 'Nottingham', 'Nuneaton', 'Oxford',\n",
       "       'Peterborough', 'Reading', 'Sheffield', 'Stafford', 'Swindon',\n",
       "       'Tamworth', 'Wakefield', 'Warrington', 'Wolverhampton', 'York'],\n",
       "      dtype=object)"
      ]
     },
     "execution_count": 31,
     "metadata": {},
     "output_type": "execute_result"
    }
   ],
   "source": [
    "np.sort(df['Arrival_Destination'].unique())\n",
    "#Text looks fine"
   ]
  },
  {
   "cell_type": "markdown",
   "id": "a036feab",
   "metadata": {},
   "source": [
    "## Exploratory Data Analysis (EDA)"
   ]
  },
  {
   "cell_type": "markdown",
   "id": "369518bd",
   "metadata": {},
   "source": [
    "Useful columns to answer the questions:\n",
    "\n",
    "Transaction_ID, Arrival_Destination, Departure_Station\n",
    "\n",
    "('Departure_Time'), 'Arrival_Time', 'Actual_Arrival_Time'\n",
    "\n",
    "Price, Ticket_Type, Ticket_Class\n",
    "\n",
    "Journey status: 'Arrival_Time','Actual_Arrival_Time' - contributing factors: Reason_for_Delay, routes? : Arrival_Destination, Departure_Station, months(weather?),"
   ]
  },
  {
   "cell_type": "code",
   "execution_count": 43,
   "id": "4ebea722",
   "metadata": {},
   "outputs": [
    {
     "data": {
      "text/plain": [
       "<AxesSubplot:xlabel='Price', ylabel='Count'>"
      ]
     },
     "execution_count": 43,
     "metadata": {},
     "output_type": "execute_result"
    },
    {
     "data": {
      "image/png": "[encoded data removed]",
      "text/plain": [
       "<Figure size 640x480 with 1 Axes>"
      ]
     },
     "metadata": {},
     "output_type": "display_data"
    }
   ],
   "source": [
    "#lets explore each of the above columns \n",
    "#Numerical column\n",
    "sns.histplot(df['Price'], kde =True)"
   ]
  },
  {
   "cell_type": "markdown",
   "id": "c0f2f519",
   "metadata": {},
   "source": [
    "Observation:\n",
    "1. The data is skewed to the right with the majority of values concentrated on the left side of the graph.\n",
    "2. the shape of the histogram does resemble an exponential distribution"
   ]
  },
  {
   "cell_type": "code",
   "execution_count": 36,
   "id": "b2eeb9fd",
   "metadata": {},
   "outputs": [
    {
     "data": {
      "text/plain": [
       "<AxesSubplot:xlabel='Price'>"
      ]
     },
     "execution_count": 36,
     "metadata": {},
     "output_type": "execute_result"
    },
    {
     "data": {
      "image/png": "[encoded data removed]",
      "text/plain": [
       "<Figure size 640x480 with 1 Axes>"
      ]
     },
     "metadata": {},
     "output_type": "display_data"
    }
   ],
   "source": [
    "sns.boxplot(df['Price'])\n",
    "#there seems to be some outliers but there could be higher prices for some class or type of ticket etc."
   ]
  },
  {
   "cell_type": "code",
   "execution_count": 37,
   "id": "6486993b",
   "metadata": {},
   "outputs": [
    {
     "data": {
      "text/plain": [
       "count    31653.000000\n",
       "mean        23.439200\n",
       "std         29.997628\n",
       "min          1.000000\n",
       "25%          5.000000\n",
       "50%         11.000000\n",
       "75%         35.000000\n",
       "max        267.000000\n",
       "Name: Price, dtype: float64"
      ]
     },
     "execution_count": 37,
     "metadata": {},
     "output_type": "execute_result"
    }
   ],
   "source": [
    "#statistics\n",
    "df['Price'].describe()"
   ]
  },
  {
   "cell_type": "code",
   "execution_count": 42,
   "id": "350fd559",
   "metadata": {},
   "outputs": [
    {
     "data": {
      "text/plain": [
       "67.0"
      ]
     },
     "execution_count": 42,
     "metadata": {},
     "output_type": "execute_result"
    }
   ],
   "source": [
    "df['Price'].quantile(.90)\n",
    "#"
   ]
  },
  {
   "cell_type": "markdown",
   "id": "0b94b5ca",
   "metadata": {},
   "source": [
    "The 90th quantile (or 90th percentile) of a distribution is the value below which `90% of the data points` fall. \n",
    "90% of Prices are below `67`"
   ]
  },
  {
   "cell_type": "markdown",
   "id": "4e82784f",
   "metadata": {},
   "source": [
    "### Lets start answering the questions\n",
    "\n",
    "Useful columns to answer the questions: Transaction_ID, Arrival_Destination, Departure_Station\n",
    "\n",
    "Date_of_Journey, 'Departure_Time', 'Arrival_Time', 'Actual_Arrival_Time'\n",
    "\n",
    "Price, Ticket_Type, Ticket_Class\n",
    "\n",
    "Journey status: 'Arrival_Time','Actual_Arrival_Time' - contributing factors: Reason_for_Delay, routes? : Arrival_Destination, Departure_Station, months(weather?),"
   ]
  },
  {
   "cell_type": "markdown",
   "id": "79beb89b",
   "metadata": {},
   "source": [
    "1. **Identify the most popular routes**: A route in a train journey refers to the specific path or course that a train follows from its starting station to its destination. \n",
    "\n",
    "As each data point is a transaction of a passenger, we would consider the frequency/count of routes as the measure"
   ]
  },
  {
   "cell_type": "code",
   "execution_count": 44,
   "id": "6d191dce",
   "metadata": {},
   "outputs": [
    {
     "data": {
      "text/plain": [
       "Index(['Transaction_ID', 'Date_of_Purchase', 'Time_of_Purchase',\n",
       "       'Purchase_Type', 'Payment_Method', 'Railcard', 'Ticket_Class',\n",
       "       'Ticket_Type', 'Price', 'Departure_Station', 'Arrival_Destination',\n",
       "       'Date_of_Journey', 'Departure_Time', 'Arrival_Time',\n",
       "       'Actual_Arrival_Time', 'Journey_Status', 'Reason_for_Delay',\n",
       "       'Refund_Request'],\n",
       "      dtype='object')"
      ]
     },
     "execution_count": 44,
     "metadata": {},
     "output_type": "execute_result"
    }
   ],
   "source": [
    "df.columns"
   ]
  },
  {
   "cell_type": "markdown",
   "id": "f61511d8",
   "metadata": {},
   "source": [
    "Departure Stations: Analyze which stations have the highest number of departures. Stations with high departure rates indicate that they are starting points for many journeys.\n",
    "\n",
    "Arrival Destinations: Similarly, analyze which stations have the highest number of arrivals. Stations with high arrival rates indicate that they are popular destinations.\n",
    "\n",
    "Route Mapping: By combining departure and arrival data, you can map out the routes that connect these popular departure stations with popular arrival destinations. This mapping helps visualize the most frequently traveled routes."
   ]
  },
  {
   "cell_type": "code",
   "execution_count": 91,
   "id": "28195a41",
   "metadata": {},
   "outputs": [],
   "source": [
    "#lets create a dictionary object to save each results to a pickle files later we can use this pickle file\n",
    "outputs = {}"
   ]
  },
  {
   "cell_type": "code",
   "execution_count": 46,
   "id": "e9fd2d6e",
   "metadata": {},
   "outputs": [
    {
     "data": {
      "text/plain": [
       "Birmingham New Street    7742\n",
       "Liverpool Lime Street    5022\n",
       "York                     4019\n",
       "Manchester Piccadilly    3968\n",
       "Reading                  3920\n",
       "Name: Arrival_Destination, dtype: int64"
      ]
     },
     "execution_count": 46,
     "metadata": {},
     "output_type": "execute_result"
    }
   ],
   "source": [
    "#top 5 Arrival stations\n",
    "df['Arrival_Destination'].value_counts()[:5]"
   ]
  },
  {
   "cell_type": "code",
   "execution_count": 92,
   "id": "53e415cb",
   "metadata": {},
   "outputs": [],
   "source": [
    "outputs['Top 5 Arrival Stations'] = df['Arrival_Destination'].value_counts()[:5]"
   ]
  },
  {
   "cell_type": "code",
   "execution_count": 49,
   "id": "24dd3cc4",
   "metadata": {},
   "outputs": [
    {
     "data": {
      "text/plain": [
       "Manchester Piccadilly    5650\n",
       "London Euston            4954\n",
       "Liverpool Lime Street    4561\n",
       "London Paddington        4500\n",
       "London Kings Cross       4229\n",
       "Name: Departure_Station, dtype: int64"
      ]
     },
     "execution_count": 49,
     "metadata": {},
     "output_type": "execute_result"
    }
   ],
   "source": [
    "#top 5 Departure stations\n",
    "df['Departure_Station'].value_counts()[:5]"
   ]
  },
  {
   "cell_type": "code",
   "execution_count": 93,
   "id": "ee0bb5c5",
   "metadata": {},
   "outputs": [],
   "source": [
    "outputs['Top 5 Departure Stations'] = df['Departure_Station'].value_counts()[:5]"
   ]
  },
  {
   "cell_type": "code",
   "execution_count": 9,
   "id": "713ae109",
   "metadata": {},
   "outputs": [
    {
     "data": {
      "text/html": [
       "<div>\n",
       "<style scoped>\n",
       "    .dataframe tbody tr th:only-of-type {\n",
       "        vertical-align: middle;\n",
       "    }\n",
       "\n",
       "    .dataframe tbody tr th {\n",
       "        vertical-align: top;\n",
       "    }\n",
       "\n",
       "    .dataframe thead th {\n",
       "        text-align: right;\n",
       "    }\n",
       "</style>\n",
       "<table border=\"1\" class=\"dataframe\">\n",
       "  <thead>\n",
       "    <tr style=\"text-align: right;\">\n",
       "      <th></th>\n",
       "      <th>Route</th>\n",
       "      <th>Route_Mapping</th>\n",
       "      <th>Percentage_Of_Bookings</th>\n",
       "    </tr>\n",
       "  </thead>\n",
       "  <tbody>\n",
       "    <tr>\n",
       "      <th>0</th>\n",
       "      <td>Liverpool Lime Street - Manchester Piccadilly</td>\n",
       "      <td>4628</td>\n",
       "      <td>14.62</td>\n",
       "    </tr>\n",
       "    <tr>\n",
       "      <th>1</th>\n",
       "      <td>Birmingham New Street - London Euston</td>\n",
       "      <td>4209</td>\n",
       "      <td>13.30</td>\n",
       "    </tr>\n",
       "    <tr>\n",
       "      <th>2</th>\n",
       "      <td>York - London Kings Cross</td>\n",
       "      <td>3922</td>\n",
       "      <td>12.39</td>\n",
       "    </tr>\n",
       "    <tr>\n",
       "      <th>3</th>\n",
       "      <td>Reading - London Paddington</td>\n",
       "      <td>3873</td>\n",
       "      <td>12.24</td>\n",
       "    </tr>\n",
       "    <tr>\n",
       "      <th>4</th>\n",
       "      <td>Birmingham New Street - London St Pancras</td>\n",
       "      <td>3471</td>\n",
       "      <td>10.97</td>\n",
       "    </tr>\n",
       "    <tr>\n",
       "      <th>...</th>\n",
       "      <td>...</td>\n",
       "      <td>...</td>\n",
       "      <td>...</td>\n",
       "    </tr>\n",
       "    <tr>\n",
       "      <th>60</th>\n",
       "      <td>York - Manchester Piccadilly</td>\n",
       "      <td>15</td>\n",
       "      <td>0.05</td>\n",
       "    </tr>\n",
       "    <tr>\n",
       "      <th>61</th>\n",
       "      <td>Wakefield - York</td>\n",
       "      <td>15</td>\n",
       "      <td>0.05</td>\n",
       "    </tr>\n",
       "    <tr>\n",
       "      <th>62</th>\n",
       "      <td>Edinburgh Waverley - York</td>\n",
       "      <td>15</td>\n",
       "      <td>0.05</td>\n",
       "    </tr>\n",
       "    <tr>\n",
       "      <th>63</th>\n",
       "      <td>Warrington - Manchester Piccadilly</td>\n",
       "      <td>15</td>\n",
       "      <td>0.05</td>\n",
       "    </tr>\n",
       "    <tr>\n",
       "      <th>64</th>\n",
       "      <td>Birmingham New Street - Liverpool Lime Street</td>\n",
       "      <td>14</td>\n",
       "      <td>0.04</td>\n",
       "    </tr>\n",
       "  </tbody>\n",
       "</table>\n",
       "<p>65 rows × 3 columns</p>\n",
       "</div>"
      ],
      "text/plain": [
       "                                            Route  Route_Mapping  \\\n",
       "0   Liverpool Lime Street - Manchester Piccadilly           4628   \n",
       "1           Birmingham New Street - London Euston           4209   \n",
       "2                       York - London Kings Cross           3922   \n",
       "3                     Reading - London Paddington           3873   \n",
       "4       Birmingham New Street - London St Pancras           3471   \n",
       "..                                            ...            ...   \n",
       "60                   York - Manchester Piccadilly             15   \n",
       "61                               Wakefield - York             15   \n",
       "62                      Edinburgh Waverley - York             15   \n",
       "63             Warrington - Manchester Piccadilly             15   \n",
       "64  Birmingham New Street - Liverpool Lime Street             14   \n",
       "\n",
       "    Percentage_Of_Bookings  \n",
       "0                    14.62  \n",
       "1                    13.30  \n",
       "2                    12.39  \n",
       "3                    12.24  \n",
       "4                    10.97  \n",
       "..                     ...  \n",
       "60                    0.05  \n",
       "61                    0.05  \n",
       "62                    0.05  \n",
       "63                    0.05  \n",
       "64                    0.04  \n",
       "\n",
       "[65 rows x 3 columns]"
      ]
     },
     "execution_count": 9,
     "metadata": {},
     "output_type": "execute_result"
    }
   ],
   "source": [
    "#lets create a new columns as Route Mapping and check most popular routes:\n",
    "df['Route_Mapping'] = df['Arrival_Destination']+' - '+df['Departure_Station']\n",
    "Routes = df['Route_Mapping'].value_counts().reset_index().rename(columns = {'index':'Route'})\n",
    "Routes['Percentage_Of_Bookings'] = round((Routes['Route_Mapping']/df.shape[0])*100,2)\n",
    "Routes"
   ]
  },
  {
   "cell_type": "code",
   "execution_count": 10,
   "id": "eb372966",
   "metadata": {},
   "outputs": [],
   "source": [
    "outputs['Routes'] = Routes"
   ]
  },
  {
   "cell_type": "code",
   "execution_count": 19,
   "id": "341a5d60",
   "metadata": {},
   "outputs": [
    {
     "data": {
      "text/html": [
       "<div>\n",
       "<style scoped>\n",
       "    .dataframe tbody tr th:only-of-type {\n",
       "        vertical-align: middle;\n",
       "    }\n",
       "\n",
       "    .dataframe tbody tr th {\n",
       "        vertical-align: top;\n",
       "    }\n",
       "\n",
       "    .dataframe thead th {\n",
       "        text-align: right;\n",
       "    }\n",
       "</style>\n",
       "<table border=\"1\" class=\"dataframe\">\n",
       "  <thead>\n",
       "    <tr style=\"text-align: right;\">\n",
       "      <th></th>\n",
       "      <th>Route</th>\n",
       "      <th>Percentage_Of_Bookings</th>\n",
       "    </tr>\n",
       "  </thead>\n",
       "  <tbody>\n",
       "    <tr>\n",
       "      <th>0</th>\n",
       "      <td>Liverpool Lime Street - Manchester Piccadilly</td>\n",
       "      <td>14.62</td>\n",
       "    </tr>\n",
       "    <tr>\n",
       "      <th>1</th>\n",
       "      <td>Birmingham New Street - London Euston</td>\n",
       "      <td>13.30</td>\n",
       "    </tr>\n",
       "    <tr>\n",
       "      <th>2</th>\n",
       "      <td>York - London Kings Cross</td>\n",
       "      <td>12.39</td>\n",
       "    </tr>\n",
       "    <tr>\n",
       "      <th>3</th>\n",
       "      <td>Reading - London Paddington</td>\n",
       "      <td>12.24</td>\n",
       "    </tr>\n",
       "    <tr>\n",
       "      <th>4</th>\n",
       "      <td>Birmingham New Street - London St Pancras</td>\n",
       "      <td>10.97</td>\n",
       "    </tr>\n",
       "    <tr>\n",
       "      <th>5</th>\n",
       "      <td>Manchester Piccadilly - Liverpool Lime Street</td>\n",
       "      <td>9.48</td>\n",
       "    </tr>\n",
       "    <tr>\n",
       "      <th>6</th>\n",
       "      <td>London Euston - Liverpool Lime Street</td>\n",
       "      <td>3.47</td>\n",
       "    </tr>\n",
       "    <tr>\n",
       "      <th>7</th>\n",
       "      <td>Manchester Piccadilly - London Euston</td>\n",
       "      <td>2.25</td>\n",
       "    </tr>\n",
       "    <tr>\n",
       "      <th>8</th>\n",
       "      <td>London St Pancras - Birmingham New Street</td>\n",
       "      <td>2.22</td>\n",
       "    </tr>\n",
       "    <tr>\n",
       "      <th>9</th>\n",
       "      <td>Oxford - London Paddington</td>\n",
       "      <td>1.53</td>\n",
       "    </tr>\n",
       "  </tbody>\n",
       "</table>\n",
       "</div>"
      ],
      "text/plain": [
       "                                           Route  Percentage_Of_Bookings\n",
       "0  Liverpool Lime Street - Manchester Piccadilly                   14.62\n",
       "1          Birmingham New Street - London Euston                   13.30\n",
       "2                      York - London Kings Cross                   12.39\n",
       "3                    Reading - London Paddington                   12.24\n",
       "4      Birmingham New Street - London St Pancras                   10.97\n",
       "5  Manchester Piccadilly - Liverpool Lime Street                    9.48\n",
       "6          London Euston - Liverpool Lime Street                    3.47\n",
       "7          Manchester Piccadilly - London Euston                    2.25\n",
       "8      London St Pancras - Birmingham New Street                    2.22\n",
       "9                     Oxford - London Paddington                    1.53"
      ]
     },
     "execution_count": 19,
     "metadata": {},
     "output_type": "execute_result"
    }
   ],
   "source": [
    "outputs['Routes'][['Route','Percentage_Of_Bookings']].head(10)"
   ]
  },
  {
   "cell_type": "code",
   "execution_count": 225,
   "id": "619097ff",
   "metadata": {},
   "outputs": [],
   "source": [
    "with open('outputs.pkl','wb') as f:\n",
    "    pickle.dump(outputs,f )"
   ]
  },
  {
   "cell_type": "code",
   "execution_count": 2,
   "id": "eed5c261",
   "metadata": {},
   "outputs": [],
   "source": [
    "import pickle\n",
    "with open('outputs.pkl','rb') as f:\n",
    "    outputs = pickle.load(f )"
   ]
  },
  {
   "cell_type": "markdown",
   "id": "097d16a8",
   "metadata": {},
   "source": [
    "**2. Determine peak travel times**: 'Departure_Time', Date_of_Journey"
   ]
  },
  {
   "cell_type": "code",
   "execution_count": 81,
   "id": "85373703",
   "metadata": {},
   "outputs": [
    {
     "data": {
      "text/html": [
       "<div>\n",
       "<style scoped>\n",
       "    .dataframe tbody tr th:only-of-type {\n",
       "        vertical-align: middle;\n",
       "    }\n",
       "\n",
       "    .dataframe tbody tr th {\n",
       "        vertical-align: top;\n",
       "    }\n",
       "\n",
       "    .dataframe thead th {\n",
       "        text-align: right;\n",
       "    }\n",
       "</style>\n",
       "<table border=\"1\" class=\"dataframe\">\n",
       "  <thead>\n",
       "    <tr style=\"text-align: right;\">\n",
       "      <th></th>\n",
       "      <th>Departure_Time</th>\n",
       "      <th>Date_of_Journey</th>\n",
       "    </tr>\n",
       "  </thead>\n",
       "  <tbody>\n",
       "    <tr>\n",
       "      <th>0</th>\n",
       "      <td>2024-01-01 11:00:00</td>\n",
       "      <td>2024-01-01</td>\n",
       "    </tr>\n",
       "    <tr>\n",
       "      <th>1</th>\n",
       "      <td>2024-01-01 09:45:00</td>\n",
       "      <td>2024-01-01</td>\n",
       "    </tr>\n",
       "    <tr>\n",
       "      <th>2</th>\n",
       "      <td>2024-01-02 18:15:00</td>\n",
       "      <td>2024-01-02</td>\n",
       "    </tr>\n",
       "    <tr>\n",
       "      <th>3</th>\n",
       "      <td>2024-01-01 21:30:00</td>\n",
       "      <td>2024-01-01</td>\n",
       "    </tr>\n",
       "    <tr>\n",
       "      <th>4</th>\n",
       "      <td>2024-01-01 16:45:00</td>\n",
       "      <td>2024-01-01</td>\n",
       "    </tr>\n",
       "    <tr>\n",
       "      <th>...</th>\n",
       "      <td>...</td>\n",
       "      <td>...</td>\n",
       "    </tr>\n",
       "    <tr>\n",
       "      <th>31648</th>\n",
       "      <td>2024-04-30 20:00:00</td>\n",
       "      <td>2024-04-30</td>\n",
       "    </tr>\n",
       "    <tr>\n",
       "      <th>31649</th>\n",
       "      <td>2024-04-30 20:15:00</td>\n",
       "      <td>2024-04-30</td>\n",
       "    </tr>\n",
       "    <tr>\n",
       "      <th>31650</th>\n",
       "      <td>2024-04-30 20:15:00</td>\n",
       "      <td>2024-04-30</td>\n",
       "    </tr>\n",
       "    <tr>\n",
       "      <th>31651</th>\n",
       "      <td>2024-04-30 21:15:00</td>\n",
       "      <td>2024-04-30</td>\n",
       "    </tr>\n",
       "    <tr>\n",
       "      <th>31652</th>\n",
       "      <td>2024-04-30 21:30:00</td>\n",
       "      <td>2024-04-30</td>\n",
       "    </tr>\n",
       "  </tbody>\n",
       "</table>\n",
       "<p>31653 rows × 2 columns</p>\n",
       "</div>"
      ],
      "text/plain": [
       "           Departure_Time Date_of_Journey\n",
       "0     2024-01-01 11:00:00      2024-01-01\n",
       "1     2024-01-01 09:45:00      2024-01-01\n",
       "2     2024-01-02 18:15:00      2024-01-02\n",
       "3     2024-01-01 21:30:00      2024-01-01\n",
       "4     2024-01-01 16:45:00      2024-01-01\n",
       "...                   ...             ...\n",
       "31648 2024-04-30 20:00:00      2024-04-30\n",
       "31649 2024-04-30 20:15:00      2024-04-30\n",
       "31650 2024-04-30 20:15:00      2024-04-30\n",
       "31651 2024-04-30 21:15:00      2024-04-30\n",
       "31652 2024-04-30 21:30:00      2024-04-30\n",
       "\n",
       "[31653 rows x 2 columns]"
      ]
     },
     "execution_count": 81,
     "metadata": {},
     "output_type": "execute_result"
    }
   ],
   "source": [
    "#since we combined Date of journey with Departure time, we can analyse with Departure_Time alone\n",
    "df[['Departure_Time','Date_of_Journey']]"
   ]
  },
  {
   "cell_type": "code",
   "execution_count": 98,
   "id": "bf79f8e1",
   "metadata": {},
   "outputs": [
    {
     "data": {
      "text/plain": [
       "March       8117\n",
       "January     8111\n",
       "April       7781\n",
       "February    7644\n",
       "Name: Departure_Time, dtype: int64"
      ]
     },
     "execution_count": 98,
     "metadata": {},
     "output_type": "execute_result"
    }
   ],
   "source": [
    "#since we combined Date of journey with Departure time, we can analyse with Departure_Time alone\n",
    "#First lets explore Popular Months, Days and later hours\n",
    "#data collected from Jan to April 2024\n",
    "outputs['Peak Travel Months'] = df['Departure_Time'].dt.month_name().value_counts()\n",
    "outputs['Peak Travel Months']\n",
    "#March and January on top"
   ]
  },
  {
   "cell_type": "code",
   "execution_count": 17,
   "id": "e16a2348",
   "metadata": {},
   "outputs": [
    {
     "data": {
      "text/plain": [
       "Wednesday    4692\n",
       "Tuesday      4607\n",
       "Thursday     4580\n",
       "Sunday       4580\n",
       "Monday       4436\n",
       "Saturday     4407\n",
       "Friday       4351\n",
       "Name: Departure_Time, dtype: int64"
      ]
     },
     "execution_count": 17,
     "metadata": {},
     "output_type": "execute_result"
    }
   ],
   "source": [
    "outputs['Peak Travel Weeks'] = df['Departure_Time'].dt.day_name().value_counts()\n",
    "outputs['Peak Travel Weeks']"
   ]
  },
  {
   "cell_type": "code",
   "execution_count": 11,
   "id": "1a4de7c5",
   "metadata": {},
   "outputs": [
    {
     "data": {
      "text/plain": [
       "18    3113\n",
       "6     3112\n",
       "17    2888\n",
       "7     2795\n",
       "16    2301\n",
       "8     2179\n",
       "13    1276\n",
       "9     1230\n",
       "15    1220\n",
       "11    1143\n",
       "20    1058\n",
       "4     1041\n",
       "2      942\n",
       "14     855\n",
       "0      853\n",
       "22     788\n",
       "12     773\n",
       "5      725\n",
       "1      644\n",
       "23     641\n",
       "21     570\n",
       "3      543\n",
       "10     525\n",
       "19     438\n",
       "Name: Departure_Time, dtype: int64"
      ]
     },
     "execution_count": 11,
     "metadata": {},
     "output_type": "execute_result"
    }
   ],
   "source": [
    "outputs['Peak Travel Hours'] = df['Departure_Time'].dt.hour.value_counts()\n",
    "outputs['Peak Travel Hours']"
   ]
  },
  {
   "cell_type": "code",
   "execution_count": 39,
   "id": "1293765d",
   "metadata": {},
   "outputs": [
    {
     "data": {
      "text/plain": [
       "0      853\n",
       "1      644\n",
       "2      942\n",
       "3      543\n",
       "4     1041\n",
       "5      725\n",
       "6     3112\n",
       "7     2795\n",
       "8     2179\n",
       "9     1230\n",
       "10     525\n",
       "11    1143\n",
       "12     773\n",
       "13    1276\n",
       "14     855\n",
       "15    1220\n",
       "16    2301\n",
       "17    2888\n",
       "18    3113\n",
       "19     438\n",
       "20    1058\n",
       "21     570\n",
       "22     788\n",
       "23     641\n",
       "Name: Departure_Time, dtype: int64"
      ]
     },
     "execution_count": 39,
     "metadata": {},
     "output_type": "execute_result"
    }
   ],
   "source": [
    "outputs['Peak Travel Hours'].sort_index()"
   ]
  },
  {
   "cell_type": "markdown",
   "id": "1b22e108",
   "metadata": {},
   "source": [
    "we can categorize the day into the following segments:\n",
    "\n",
    "`Early Morning\n",
    "Morning\n",
    "Afternoon\n",
    "Evening/Night`\n",
    "\n",
    "The possible breakdown of these segments with specific hour ranges:\n",
    "\n",
    "`Early Morning: 12:00 AM (midnight) - 5:59 AM\n",
    "Morning: 6:00 AM - 11:59 AM\n",
    "Afternoon: 12:00 PM (noon) - 5:59 PM\n",
    "Evening/Night: 6:00 PM - 11:59 PM`"
   ]
  },
  {
   "cell_type": "code",
   "execution_count": 30,
   "id": "5b9c8b94",
   "metadata": {},
   "outputs": [],
   "source": [
    "#Travel_Time_Segments = []\n",
    "\n",
    "def determine_peak_time(departure_time):\n",
    "    hour = departure_time.hour\n",
    "    if 0 <= hour < 6:\n",
    "        return 'Early Morning'\n",
    "    elif 6 <= hour < 12:\n",
    "        return 'Morning'\n",
    "    elif 12 <= hour < 18:\n",
    "        return 'Afternoon'\n",
    "    else:\n",
    "        return 'Evening/Night'"
   ]
  },
  {
   "cell_type": "code",
   "execution_count": 33,
   "id": "cf174d57",
   "metadata": {},
   "outputs": [
    {
     "data": {
      "text/plain": [
       "0              Morning\n",
       "1              Morning\n",
       "2        Evening/Night\n",
       "3        Evening/Night\n",
       "4            Afternoon\n",
       "             ...      \n",
       "31648    Evening/Night\n",
       "31649    Evening/Night\n",
       "31650    Evening/Night\n",
       "31651    Evening/Night\n",
       "31652    Evening/Night\n",
       "Name: Travel_Time_Segment, Length: 31653, dtype: object"
      ]
     },
     "execution_count": 33,
     "metadata": {},
     "output_type": "execute_result"
    }
   ],
   "source": [
    "df['Travel_Time_Segment'] = df['Departure_Time'].apply(determine_peak_time)\n",
    "df['Travel_Time_Segment']"
   ]
  },
  {
   "cell_type": "code",
   "execution_count": 36,
   "id": "d0533980",
   "metadata": {},
   "outputs": [
    {
     "data": {
      "text/plain": [
       "Morning          10984\n",
       "Afternoon         9313\n",
       "Evening/Night     6608\n",
       "Early Morning     4748\n",
       "Name: Travel_Time_Segment, dtype: int64"
      ]
     },
     "execution_count": 36,
     "metadata": {},
     "output_type": "execute_result"
    }
   ],
   "source": [
    "outputs['peak travel times'] = df['Travel_Time_Segment'].value_counts()\n",
    "outputs['peak travel times']"
   ]
  },
  {
   "cell_type": "code",
   "execution_count": 13,
   "id": "b7a65dfd",
   "metadata": {},
   "outputs": [
    {
     "data": {
      "text/plain": [
       "31653"
      ]
     },
     "execution_count": 13,
     "metadata": {},
     "output_type": "execute_result"
    }
   ],
   "source": [
    "outputs['peak travel times'].values.sum()"
   ]
  },
  {
   "cell_type": "code",
   "execution_count": 16,
   "id": "bcead664",
   "metadata": {},
   "outputs": [
    {
     "data": {
      "text/plain": [
       "Morning          34.70\n",
       "Afternoon        29.42\n",
       "Evening/Night    20.88\n",
       "Early Morning    15.00\n",
       "Name: Travel_Time_Segment, dtype: float64"
      ]
     },
     "execution_count": 16,
     "metadata": {},
     "output_type": "execute_result"
    }
   ],
   "source": [
    "round(outputs['peak travel times']/outputs['peak travel times'].values.sum()*100,2)"
   ]
  },
  {
   "cell_type": "markdown",
   "id": "99210f6f",
   "metadata": {},
   "source": [
    "**3. Analyze revenue from different ticket types & classes**\n",
    "Price, Ticket_Type, Ticket_Class, (Railcard)\n",
    "\n",
    "from data dictionary:\n",
    "\n",
    "Ticket Class: Seat class for the ticket (Standard or First)\n",
    "\n",
    "Ticket Type:\tWhen you bought or can use the ticket. Advance tickets are 1/2 off and must be purchased at least a day prior to departure. Off-Peak tickets are 1/4 off and must be used outside of peak hours (weekdays between 6-8am and 4-6pm). Anytime tickets are full price and can be bought and used at any time during the day."
   ]
  },
  {
   "cell_type": "code",
   "execution_count": 87,
   "id": "5ebe2854",
   "metadata": {
    "scrolled": true
   },
   "outputs": [
    {
     "data": {
      "text/html": [
       "<div>\n",
       "<style scoped>\n",
       "    .dataframe tbody tr th:only-of-type {\n",
       "        vertical-align: middle;\n",
       "    }\n",
       "\n",
       "    .dataframe tbody tr th {\n",
       "        vertical-align: top;\n",
       "    }\n",
       "\n",
       "    .dataframe thead th {\n",
       "        text-align: right;\n",
       "    }\n",
       "</style>\n",
       "<table border=\"1\" class=\"dataframe\">\n",
       "  <thead>\n",
       "    <tr style=\"text-align: right;\">\n",
       "      <th></th>\n",
       "      <th>Ticket_Class</th>\n",
       "      <th>sum</th>\n",
       "      <th>count</th>\n",
       "    </tr>\n",
       "  </thead>\n",
       "  <tbody>\n",
       "    <tr>\n",
       "      <th>1</th>\n",
       "      <td>Standard</td>\n",
       "      <td>592522</td>\n",
       "      <td>28595</td>\n",
       "    </tr>\n",
       "    <tr>\n",
       "      <th>0</th>\n",
       "      <td>First Class</td>\n",
       "      <td>149399</td>\n",
       "      <td>3058</td>\n",
       "    </tr>\n",
       "  </tbody>\n",
       "</table>\n",
       "</div>"
      ],
      "text/plain": [
       "  Ticket_Class     sum  count\n",
       "1     Standard  592522  28595\n",
       "0  First Class  149399   3058"
      ]
     },
     "execution_count": 87,
     "metadata": {},
     "output_type": "execute_result"
    }
   ],
   "source": [
    "outputs['revenue_by_class'] = df.groupby('Ticket_Class')['Price'].agg(['sum','count']).reset_index().sort_values(by = 'sum',ascending = False)\n",
    "outputs['revenue_by_class']"
   ]
  },
  {
   "cell_type": "markdown",
   "id": "31dccc49",
   "metadata": {},
   "source": [
    "Observation: Revenue for Standard class is high compared to First Class, and as well as the number of passenger who bought the ticket"
   ]
  },
  {
   "cell_type": "code",
   "execution_count": 113,
   "id": "91e062ab",
   "metadata": {},
   "outputs": [
    {
     "data": {
      "text/html": [
       "<div>\n",
       "<style scoped>\n",
       "    .dataframe tbody tr th:only-of-type {\n",
       "        vertical-align: middle;\n",
       "    }\n",
       "\n",
       "    .dataframe tbody tr th {\n",
       "        vertical-align: top;\n",
       "    }\n",
       "\n",
       "    .dataframe thead th {\n",
       "        text-align: right;\n",
       "    }\n",
       "</style>\n",
       "<table border=\"1\" class=\"dataframe\">\n",
       "  <thead>\n",
       "    <tr style=\"text-align: right;\">\n",
       "      <th></th>\n",
       "      <th>Ticket_Class</th>\n",
       "      <th>Railcard</th>\n",
       "      <th>count</th>\n",
       "    </tr>\n",
       "  </thead>\n",
       "  <tbody>\n",
       "    <tr>\n",
       "      <th>0</th>\n",
       "      <td>First Class</td>\n",
       "      <td>Adult</td>\n",
       "      <td>490</td>\n",
       "    </tr>\n",
       "    <tr>\n",
       "      <th>1</th>\n",
       "      <td>First Class</td>\n",
       "      <td>Disabled</td>\n",
       "      <td>314</td>\n",
       "    </tr>\n",
       "    <tr>\n",
       "      <th>2</th>\n",
       "      <td>First Class</td>\n",
       "      <td>None</td>\n",
       "      <td>1985</td>\n",
       "    </tr>\n",
       "    <tr>\n",
       "      <th>3</th>\n",
       "      <td>First Class</td>\n",
       "      <td>Senior</td>\n",
       "      <td>269</td>\n",
       "    </tr>\n",
       "    <tr>\n",
       "      <th>4</th>\n",
       "      <td>Standard</td>\n",
       "      <td>Adult</td>\n",
       "      <td>4356</td>\n",
       "    </tr>\n",
       "    <tr>\n",
       "      <th>5</th>\n",
       "      <td>Standard</td>\n",
       "      <td>Disabled</td>\n",
       "      <td>2775</td>\n",
       "    </tr>\n",
       "    <tr>\n",
       "      <th>6</th>\n",
       "      <td>Standard</td>\n",
       "      <td>None</td>\n",
       "      <td>18933</td>\n",
       "    </tr>\n",
       "    <tr>\n",
       "      <th>7</th>\n",
       "      <td>Standard</td>\n",
       "      <td>Senior</td>\n",
       "      <td>2531</td>\n",
       "    </tr>\n",
       "  </tbody>\n",
       "</table>\n",
       "</div>"
      ],
      "text/plain": [
       "  Ticket_Class  Railcard  count\n",
       "0  First Class     Adult    490\n",
       "1  First Class  Disabled    314\n",
       "2  First Class      None   1985\n",
       "3  First Class    Senior    269\n",
       "4     Standard     Adult   4356\n",
       "5     Standard  Disabled   2775\n",
       "6     Standard      None  18933\n",
       "7     Standard    Senior   2531"
      ]
     },
     "execution_count": 113,
     "metadata": {},
     "output_type": "execute_result"
    }
   ],
   "source": [
    "#relation with railcard\n",
    "df.groupby(['Ticket_Class','Railcard'])['Price'].agg(['count']).reset_index()"
   ]
  },
  {
   "cell_type": "code",
   "execution_count": 121,
   "id": "0c245594",
   "metadata": {},
   "outputs": [
    {
     "data": {
      "text/plain": [
       "0.5405541561712847"
      ]
     },
     "execution_count": 121,
     "metadata": {},
     "output_type": "execute_result"
    }
   ],
   "source": [
    "(490+314+269)/1985"
   ]
  },
  {
   "cell_type": "code",
   "execution_count": 122,
   "id": "d662c70c",
   "metadata": {},
   "outputs": [
    {
     "data": {
      "text/plain": [
       "0.5103258860191201"
      ]
     },
     "execution_count": 122,
     "metadata": {},
     "output_type": "execute_result"
    }
   ],
   "source": [
    "(4356+2775+2531)/18933"
   ]
  },
  {
   "cell_type": "markdown",
   "id": "3607602b",
   "metadata": {},
   "source": [
    "Observation: around 50% of the passengers in both Ticket Classes are Railcard holders. So it wont be a factor for low prices in First Class transactions"
   ]
  },
  {
   "cell_type": "code",
   "execution_count": 88,
   "id": "f5ee85da",
   "metadata": {},
   "outputs": [
    {
     "data": {
      "text/html": [
       "<div>\n",
       "<style scoped>\n",
       "    .dataframe tbody tr th:only-of-type {\n",
       "        vertical-align: middle;\n",
       "    }\n",
       "\n",
       "    .dataframe tbody tr th {\n",
       "        vertical-align: top;\n",
       "    }\n",
       "\n",
       "    .dataframe thead th {\n",
       "        text-align: right;\n",
       "    }\n",
       "</style>\n",
       "<table border=\"1\" class=\"dataframe\">\n",
       "  <thead>\n",
       "    <tr style=\"text-align: right;\">\n",
       "      <th></th>\n",
       "      <th>Ticket_Type</th>\n",
       "      <th>sum</th>\n",
       "      <th>count</th>\n",
       "    </tr>\n",
       "  </thead>\n",
       "  <tbody>\n",
       "    <tr>\n",
       "      <th>0</th>\n",
       "      <td>Advance</td>\n",
       "      <td>309274</td>\n",
       "      <td>17561</td>\n",
       "    </tr>\n",
       "    <tr>\n",
       "      <th>2</th>\n",
       "      <td>Off-Peak</td>\n",
       "      <td>223338</td>\n",
       "      <td>8752</td>\n",
       "    </tr>\n",
       "    <tr>\n",
       "      <th>1</th>\n",
       "      <td>Anytime</td>\n",
       "      <td>209309</td>\n",
       "      <td>5340</td>\n",
       "    </tr>\n",
       "  </tbody>\n",
       "</table>\n",
       "</div>"
      ],
      "text/plain": [
       "  Ticket_Type     sum  count\n",
       "0     Advance  309274  17561\n",
       "2    Off-Peak  223338   8752\n",
       "1     Anytime  209309   5340"
      ]
     },
     "execution_count": 88,
     "metadata": {},
     "output_type": "execute_result"
    }
   ],
   "source": [
    "outputs['revenue_by_type'] = df.groupby('Ticket_Type')['Price'].agg(['sum','count']).reset_index().sort_values(by = 'sum',ascending = False)\n",
    "outputs['revenue_by_type']"
   ]
  },
  {
   "cell_type": "markdown",
   "id": "1396cbe2",
   "metadata": {},
   "source": [
    "Observation: The revenue for Advance & Off Peak booking is high compared to Anytime - This is interesting because Both have discounts/offer for the price but not for Anytime category. The reason for high revenue could be the no of passenger count in each Ticket Type...\n",
    "\n",
    "We can try to find the relation with Railcard - as Railcard holders get 1/3 off their ticket purchases.\n",
    "If there are more no of Railcard holders in `Anytime` this could be one of the factors for low revenue from anytime category"
   ]
  },
  {
   "cell_type": "code",
   "execution_count": 126,
   "id": "6e668f7d",
   "metadata": {},
   "outputs": [
    {
     "data": {
      "text/html": [
       "<div>\n",
       "<style scoped>\n",
       "    .dataframe tbody tr th:only-of-type {\n",
       "        vertical-align: middle;\n",
       "    }\n",
       "\n",
       "    .dataframe tbody tr th {\n",
       "        vertical-align: top;\n",
       "    }\n",
       "\n",
       "    .dataframe thead th {\n",
       "        text-align: right;\n",
       "    }\n",
       "</style>\n",
       "<table border=\"1\" class=\"dataframe\">\n",
       "  <thead>\n",
       "    <tr style=\"text-align: right;\">\n",
       "      <th></th>\n",
       "      <th>Ticket_Type</th>\n",
       "      <th>Railcard</th>\n",
       "      <th>count</th>\n",
       "    </tr>\n",
       "  </thead>\n",
       "  <tbody>\n",
       "    <tr>\n",
       "      <th>0</th>\n",
       "      <td>Advance</td>\n",
       "      <td>Adult</td>\n",
       "      <td>2711</td>\n",
       "    </tr>\n",
       "    <tr>\n",
       "      <th>1</th>\n",
       "      <td>Advance</td>\n",
       "      <td>Disabled</td>\n",
       "      <td>1661</td>\n",
       "    </tr>\n",
       "    <tr>\n",
       "      <th>2</th>\n",
       "      <td>Advance</td>\n",
       "      <td>None</td>\n",
       "      <td>11625</td>\n",
       "    </tr>\n",
       "    <tr>\n",
       "      <th>3</th>\n",
       "      <td>Advance</td>\n",
       "      <td>Senior</td>\n",
       "      <td>1564</td>\n",
       "    </tr>\n",
       "    <tr>\n",
       "      <th>4</th>\n",
       "      <td>Anytime</td>\n",
       "      <td>Adult</td>\n",
       "      <td>811</td>\n",
       "    </tr>\n",
       "    <tr>\n",
       "      <th>5</th>\n",
       "      <td>Anytime</td>\n",
       "      <td>Disabled</td>\n",
       "      <td>549</td>\n",
       "    </tr>\n",
       "    <tr>\n",
       "      <th>6</th>\n",
       "      <td>Anytime</td>\n",
       "      <td>None</td>\n",
       "      <td>3371</td>\n",
       "    </tr>\n",
       "    <tr>\n",
       "      <th>7</th>\n",
       "      <td>Anytime</td>\n",
       "      <td>Senior</td>\n",
       "      <td>609</td>\n",
       "    </tr>\n",
       "    <tr>\n",
       "      <th>8</th>\n",
       "      <td>Off-Peak</td>\n",
       "      <td>Adult</td>\n",
       "      <td>1324</td>\n",
       "    </tr>\n",
       "    <tr>\n",
       "      <th>9</th>\n",
       "      <td>Off-Peak</td>\n",
       "      <td>Disabled</td>\n",
       "      <td>879</td>\n",
       "    </tr>\n",
       "    <tr>\n",
       "      <th>10</th>\n",
       "      <td>Off-Peak</td>\n",
       "      <td>None</td>\n",
       "      <td>5922</td>\n",
       "    </tr>\n",
       "    <tr>\n",
       "      <th>11</th>\n",
       "      <td>Off-Peak</td>\n",
       "      <td>Senior</td>\n",
       "      <td>627</td>\n",
       "    </tr>\n",
       "  </tbody>\n",
       "</table>\n",
       "</div>"
      ],
      "text/plain": [
       "   Ticket_Type  Railcard  count\n",
       "0      Advance     Adult   2711\n",
       "1      Advance  Disabled   1661\n",
       "2      Advance      None  11625\n",
       "3      Advance    Senior   1564\n",
       "4      Anytime     Adult    811\n",
       "5      Anytime  Disabled    549\n",
       "6      Anytime      None   3371\n",
       "7      Anytime    Senior    609\n",
       "8     Off-Peak     Adult   1324\n",
       "9     Off-Peak  Disabled    879\n",
       "10    Off-Peak      None   5922\n",
       "11    Off-Peak    Senior    627"
      ]
     },
     "execution_count": 126,
     "metadata": {},
     "output_type": "execute_result"
    }
   ],
   "source": [
    "#relation with railcard\n",
    "df.groupby(['Ticket_Type','Railcard'])['Price'].agg(['count']).reset_index()"
   ]
  },
  {
   "cell_type": "code",
   "execution_count": 124,
   "id": "5fc0767f",
   "metadata": {},
   "outputs": [
    {
     "data": {
      "text/plain": [
       "0.5106236559139785"
      ]
     },
     "execution_count": 124,
     "metadata": {},
     "output_type": "execute_result"
    }
   ],
   "source": [
    "(2711+1661+1564)/11625 #Advance"
   ]
  },
  {
   "cell_type": "code",
   "execution_count": 127,
   "id": "d8b191c8",
   "metadata": {},
   "outputs": [
    {
     "data": {
      "text/plain": [
       "0.6618214179768614"
      ]
     },
     "execution_count": 127,
     "metadata": {},
     "output_type": "execute_result"
    }
   ],
   "source": [
    "(811+811+609)/3371 #Anytime"
   ]
  },
  {
   "cell_type": "code",
   "execution_count": 128,
   "id": "8434d4e5",
   "metadata": {},
   "outputs": [
    {
     "data": {
      "text/plain": [
       "0.5530226274907126"
      ]
     },
     "execution_count": 128,
     "metadata": {},
     "output_type": "execute_result"
    }
   ],
   "source": [
    "(1324+1324+627)/5922 #Off-Peak"
   ]
  },
  {
   "cell_type": "markdown",
   "id": "fc63e509",
   "metadata": {},
   "source": [
    "Observation: There are 66% of the passangers are having Railcard from Anytime category so this could be one of the factors for low revenue from Anytime category"
   ]
  },
  {
   "cell_type": "code",
   "execution_count": 90,
   "id": "ccaf38e7",
   "metadata": {},
   "outputs": [
    {
     "data": {
      "text/html": [
       "<div>\n",
       "<style scoped>\n",
       "    .dataframe tbody tr th:only-of-type {\n",
       "        vertical-align: middle;\n",
       "    }\n",
       "\n",
       "    .dataframe tbody tr th {\n",
       "        vertical-align: top;\n",
       "    }\n",
       "\n",
       "    .dataframe thead th {\n",
       "        text-align: right;\n",
       "    }\n",
       "</style>\n",
       "<table border=\"1\" class=\"dataframe\">\n",
       "  <thead>\n",
       "    <tr style=\"text-align: right;\">\n",
       "      <th></th>\n",
       "      <th>Ticket_Class</th>\n",
       "      <th>Ticket_Type</th>\n",
       "      <th>sum</th>\n",
       "      <th>count</th>\n",
       "    </tr>\n",
       "  </thead>\n",
       "  <tbody>\n",
       "    <tr>\n",
       "      <th>3</th>\n",
       "      <td>Standard</td>\n",
       "      <td>Advance</td>\n",
       "      <td>242388</td>\n",
       "      <td>15797</td>\n",
       "    </tr>\n",
       "    <tr>\n",
       "      <th>5</th>\n",
       "      <td>Standard</td>\n",
       "      <td>Off-Peak</td>\n",
       "      <td>178666</td>\n",
       "      <td>7948</td>\n",
       "    </tr>\n",
       "    <tr>\n",
       "      <th>4</th>\n",
       "      <td>Standard</td>\n",
       "      <td>Anytime</td>\n",
       "      <td>171468</td>\n",
       "      <td>4850</td>\n",
       "    </tr>\n",
       "    <tr>\n",
       "      <th>0</th>\n",
       "      <td>First Class</td>\n",
       "      <td>Advance</td>\n",
       "      <td>66886</td>\n",
       "      <td>1764</td>\n",
       "    </tr>\n",
       "    <tr>\n",
       "      <th>2</th>\n",
       "      <td>First Class</td>\n",
       "      <td>Off-Peak</td>\n",
       "      <td>44672</td>\n",
       "      <td>804</td>\n",
       "    </tr>\n",
       "    <tr>\n",
       "      <th>1</th>\n",
       "      <td>First Class</td>\n",
       "      <td>Anytime</td>\n",
       "      <td>37841</td>\n",
       "      <td>490</td>\n",
       "    </tr>\n",
       "  </tbody>\n",
       "</table>\n",
       "</div>"
      ],
      "text/plain": [
       "  Ticket_Class Ticket_Type     sum  count\n",
       "3     Standard     Advance  242388  15797\n",
       "5     Standard    Off-Peak  178666   7948\n",
       "4     Standard     Anytime  171468   4850\n",
       "0  First Class     Advance   66886   1764\n",
       "2  First Class    Off-Peak   44672    804\n",
       "1  First Class     Anytime   37841    490"
      ]
     },
     "execution_count": 90,
     "metadata": {},
     "output_type": "execute_result"
    }
   ],
   "source": [
    "outputs['revenue_by_class_and_type'] = df.groupby(['Ticket_Class', 'Ticket_Type'])['Price'].agg(['sum','count']).reset_index().sort_values(by = 'sum',ascending = False)\n",
    "outputs['revenue_by_class_and_type']"
   ]
  },
  {
   "cell_type": "code",
   "execution_count": 101,
   "id": "0c0c87c3",
   "metadata": {},
   "outputs": [
    {
     "data": {
      "text/html": [
       "<div>\n",
       "<style scoped>\n",
       "    .dataframe tbody tr th:only-of-type {\n",
       "        vertical-align: middle;\n",
       "    }\n",
       "\n",
       "    .dataframe tbody tr th {\n",
       "        vertical-align: top;\n",
       "    }\n",
       "\n",
       "    .dataframe thead th {\n",
       "        text-align: right;\n",
       "    }\n",
       "</style>\n",
       "<table border=\"1\" class=\"dataframe\">\n",
       "  <thead>\n",
       "    <tr style=\"text-align: right;\">\n",
       "      <th>Ticket_Type</th>\n",
       "      <th>Advance</th>\n",
       "      <th>Anytime</th>\n",
       "      <th>Off-Peak</th>\n",
       "    </tr>\n",
       "    <tr>\n",
       "      <th>Ticket_Class</th>\n",
       "      <th></th>\n",
       "      <th></th>\n",
       "      <th></th>\n",
       "    </tr>\n",
       "  </thead>\n",
       "  <tbody>\n",
       "    <tr>\n",
       "      <th>First Class</th>\n",
       "      <td>66886</td>\n",
       "      <td>37841</td>\n",
       "      <td>44672</td>\n",
       "    </tr>\n",
       "    <tr>\n",
       "      <th>Standard</th>\n",
       "      <td>242388</td>\n",
       "      <td>171468</td>\n",
       "      <td>178666</td>\n",
       "    </tr>\n",
       "  </tbody>\n",
       "</table>\n",
       "</div>"
      ],
      "text/plain": [
       "Ticket_Type   Advance  Anytime  Off-Peak\n",
       "Ticket_Class                            \n",
       "First Class     66886    37841     44672\n",
       "Standard       242388   171468    178666"
      ]
     },
     "execution_count": 101,
     "metadata": {},
     "output_type": "execute_result"
    }
   ],
   "source": [
    "outputs['revenue_by_class_and_type_crosstab'] = pd.crosstab(index = df['Ticket_Class'], columns =df['Ticket_Type'], values = df['Price'], aggfunc = 'sum' )\n",
    "outputs['revenue_by_class_and_type_crosstab']"
   ]
  },
  {
   "cell_type": "code",
   "execution_count": 100,
   "id": "164fcd29",
   "metadata": {},
   "outputs": [
    {
     "data": {
      "text/plain": [
       "<AxesSubplot:xlabel='Ticket_Type', ylabel='Ticket_Class'>"
      ]
     },
     "execution_count": 100,
     "metadata": {},
     "output_type": "execute_result"
    },
    {
     "data": {
      "image/png": "[encoded data removed]",
      "text/plain": [
       "<Figure size 640x480 with 2 Axes>"
      ]
     },
     "metadata": {},
     "output_type": "display_data"
    }
   ],
   "source": [
    "sns.heatmap(pd.crosstab(index = df['Ticket_Class'], columns =df['Ticket_Type'], values = df['Price'], aggfunc = 'sum' ), center = 0)"
   ]
  },
  {
   "cell_type": "markdown",
   "id": "79125c33",
   "metadata": {},
   "source": [
    "**4. Diagnose on-time performance and contributing factors**\n",
    "note: There might be two or passengers travelling on a same train, as we don't have the information on the train id we will calculate On-Time Performance from all the transactions data"
   ]
  },
  {
   "cell_type": "code",
   "execution_count": 102,
   "id": "5916846e",
   "metadata": {},
   "outputs": [
    {
     "data": {
      "text/plain": [
       "Index(['Transaction_ID', 'Date_of_Purchase', 'Time_of_Purchase',\n",
       "       'Purchase_Type', 'Payment_Method', 'Railcard', 'Ticket_Class',\n",
       "       'Ticket_Type', 'Price', 'Departure_Station', 'Arrival_Destination',\n",
       "       'Date_of_Journey', 'Departure_Time', 'Arrival_Time',\n",
       "       'Actual_Arrival_Time', 'Journey_Status', 'Reason_for_Delay',\n",
       "       'Refund_Request', 'Route_Mapping', 'Travel_Time_Segment'],\n",
       "      dtype='object')"
      ]
     },
     "execution_count": 102,
     "metadata": {},
     "output_type": "execute_result"
    }
   ],
   "source": [
    "df.columns"
   ]
  },
  {
   "cell_type": "markdown",
   "id": "6bd287d2",
   "metadata": {},
   "source": [
    "Journey status: 'Arrival_Time','Actual_Arrival_Time' - contributing factors: Reason_for_Delay, routes? : Arrival_Destination, Departure_Station, months(weather?),"
   ]
  },
  {
   "cell_type": "code",
   "execution_count": 132,
   "id": "ca1c393d",
   "metadata": {},
   "outputs": [
    {
     "data": {
      "text/plain": [
       "On Time      86.819575\n",
       "Delayed       7.241020\n",
       "Cancelled     5.939405\n",
       "Name: Journey_Status, dtype: float64"
      ]
     },
     "execution_count": 132,
     "metadata": {},
     "output_type": "execute_result"
    }
   ],
   "source": [
    "outputs['On-Time Performance'] = df['Journey_Status'].value_counts()/df.shape[0]*100\n",
    "outputs['On-Time Performance']"
   ]
  },
  {
   "cell_type": "markdown",
   "id": "3a2b5993",
   "metadata": {},
   "source": [
    "*Trains are on time most of the times but there is a delay of 7%(this could be a same train or different as each row represent single transactions - Additional data is needed)"
   ]
  },
  {
   "cell_type": "code",
   "execution_count": 139,
   "id": "b7ba13ef",
   "metadata": {},
   "outputs": [
    {
     "data": {
      "text/plain": [
       "No Delay              27481\n",
       "Weather                 995\n",
       "Technical Issue         707\n",
       "Signal Failure          523\n",
       "Signal failure          447\n",
       "Staffing                410\n",
       "Staff Shortage          399\n",
       "Weather Conditions      377\n",
       "Traffic                 314\n",
       "Name: Reason_for_Delay, dtype: int64"
      ]
     },
     "execution_count": 139,
     "metadata": {},
     "output_type": "execute_result"
    }
   ],
   "source": [
    "#Diagnosing contributing factors\n",
    "\n",
    "outputs['Reason_for_Delay'] = df['Reason_for_Delay'].value_counts()\n",
    "outputs['Reason_for_Delay']"
   ]
  },
  {
   "cell_type": "code",
   "execution_count": 25,
   "id": "dfea7be1",
   "metadata": {},
   "outputs": [
    {
     "data": {
      "text/plain": [
       "Weather               23.85\n",
       "Technical Issue       16.95\n",
       "Signal Failure        12.54\n",
       "Signal failure        10.71\n",
       "Staffing               9.83\n",
       "Staff Shortage         9.56\n",
       "Weather Conditions     9.04\n",
       "Traffic                7.53\n",
       "Name: Reason_for_Delay, dtype: float64"
      ]
     },
     "execution_count": 25,
     "metadata": {},
     "output_type": "execute_result"
    }
   ],
   "source": [
    "round(outputs['Reason_for_Delay'][1:]/outputs['Reason_for_Delay'][1:].values.sum()*100,2)"
   ]
  },
  {
   "cell_type": "markdown",
   "id": "628c0cd0",
   "metadata": {},
   "source": [
    "Weather is the primary factor for the delays"
   ]
  },
  {
   "cell_type": "code",
   "execution_count": 189,
   "id": "ac3e8c19",
   "metadata": {},
   "outputs": [
    {
     "data": {
      "text/html": [
       "<div>\n",
       "<style scoped>\n",
       "    .dataframe tbody tr th:only-of-type {\n",
       "        vertical-align: middle;\n",
       "    }\n",
       "\n",
       "    .dataframe tbody tr th {\n",
       "        vertical-align: top;\n",
       "    }\n",
       "\n",
       "    .dataframe thead th {\n",
       "        text-align: right;\n",
       "    }\n",
       "</style>\n",
       "<table border=\"1\" class=\"dataframe\">\n",
       "  <thead>\n",
       "    <tr style=\"text-align: right;\">\n",
       "      <th></th>\n",
       "      <th>Reason_for_Delay</th>\n",
       "      <th>Route_Mapping</th>\n",
       "      <th>Count</th>\n",
       "    </tr>\n",
       "  </thead>\n",
       "  <tbody>\n",
       "    <tr>\n",
       "      <th>543</th>\n",
       "      <td>No Delay</td>\n",
       "      <td>Liverpool Lime Street - Manchester Piccadilly</td>\n",
       "      <td>3984</td>\n",
       "    </tr>\n",
       "    <tr>\n",
       "      <th>521</th>\n",
       "      <td>No Delay</td>\n",
       "      <td>Birmingham New Street - London Euston</td>\n",
       "      <td>3756</td>\n",
       "    </tr>\n",
       "    <tr>\n",
       "      <th>583</th>\n",
       "      <td>No Delay</td>\n",
       "      <td>York - London Kings Cross</td>\n",
       "      <td>3593</td>\n",
       "    </tr>\n",
       "    <tr>\n",
       "      <th>571</th>\n",
       "      <td>No Delay</td>\n",
       "      <td>Reading - London Paddington</td>\n",
       "      <td>3521</td>\n",
       "    </tr>\n",
       "    <tr>\n",
       "      <th>522</th>\n",
       "      <td>No Delay</td>\n",
       "      <td>Birmingham New Street - London St Pancras</td>\n",
       "      <td>3198</td>\n",
       "    </tr>\n",
       "    <tr>\n",
       "      <th>...</th>\n",
       "      <td>...</td>\n",
       "      <td>...</td>\n",
       "      <td>...</td>\n",
       "    </tr>\n",
       "    <tr>\n",
       "      <th>229</th>\n",
       "      <td>Staffing</td>\n",
       "      <td>London Paddington - Manchester Piccadilly</td>\n",
       "      <td>0</td>\n",
       "    </tr>\n",
       "    <tr>\n",
       "      <th>228</th>\n",
       "      <td>Staffing</td>\n",
       "      <td>London Paddington - Liverpool Lime Street</td>\n",
       "      <td>0</td>\n",
       "    </tr>\n",
       "    <tr>\n",
       "      <th>227</th>\n",
       "      <td>Staffing</td>\n",
       "      <td>London Paddington - Birmingham New Street</td>\n",
       "      <td>0</td>\n",
       "    </tr>\n",
       "    <tr>\n",
       "      <th>226</th>\n",
       "      <td>Staffing</td>\n",
       "      <td>London Kings Cross - Manchester Piccadilly</td>\n",
       "      <td>0</td>\n",
       "    </tr>\n",
       "    <tr>\n",
       "      <th>292</th>\n",
       "      <td>Technical Issue</td>\n",
       "      <td>London Paddington - Birmingham New Street</td>\n",
       "      <td>0</td>\n",
       "    </tr>\n",
       "  </tbody>\n",
       "</table>\n",
       "<p>585 rows × 3 columns</p>\n",
       "</div>"
      ],
      "text/plain": [
       "    Reason_for_Delay                                  Route_Mapping  Count\n",
       "543         No Delay  Liverpool Lime Street - Manchester Piccadilly   3984\n",
       "521         No Delay          Birmingham New Street - London Euston   3756\n",
       "583         No Delay                      York - London Kings Cross   3593\n",
       "571         No Delay                    Reading - London Paddington   3521\n",
       "522         No Delay      Birmingham New Street - London St Pancras   3198\n",
       "..               ...                                            ...    ...\n",
       "229         Staffing      London Paddington - Manchester Piccadilly      0\n",
       "228         Staffing      London Paddington - Liverpool Lime Street      0\n",
       "227         Staffing      London Paddington - Birmingham New Street      0\n",
       "226         Staffing     London Kings Cross - Manchester Piccadilly      0\n",
       "292  Technical Issue      London Paddington - Birmingham New Street      0\n",
       "\n",
       "[585 rows x 3 columns]"
      ]
     },
     "execution_count": 189,
     "metadata": {},
     "output_type": "execute_result"
    }
   ],
   "source": [
    "outputs['routemap-delay'] = df.groupby(['Reason_for_Delay','Route_Mapping'])\\\n",
    "                            ['Transaction_ID'].count().reset_index().sort_values(by = 'Transaction_ID',ascending = False)\\\n",
    "                            .rename(columns = {'Transaction_ID':'Count'})\n",
    "outputs['routemap-delay']"
   ]
  },
  {
   "cell_type": "code",
   "execution_count": 200,
   "id": "a212e220",
   "metadata": {},
   "outputs": [
    {
     "data": {
      "text/html": [
       "<div>\n",
       "<style scoped>\n",
       "    .dataframe tbody tr th:only-of-type {\n",
       "        vertical-align: middle;\n",
       "    }\n",
       "\n",
       "    .dataframe tbody tr th {\n",
       "        vertical-align: top;\n",
       "    }\n",
       "\n",
       "    .dataframe thead th {\n",
       "        text-align: right;\n",
       "    }\n",
       "</style>\n",
       "<table border=\"1\" class=\"dataframe\">\n",
       "  <thead>\n",
       "    <tr style=\"text-align: right;\">\n",
       "      <th></th>\n",
       "      <th>Reason_for_Delay</th>\n",
       "      <th>Route_Mapping</th>\n",
       "      <th>Count</th>\n",
       "    </tr>\n",
       "  </thead>\n",
       "  <tbody>\n",
       "    <tr>\n",
       "      <th>417</th>\n",
       "      <td>Weather</td>\n",
       "      <td>London Euston - Liverpool Lime Street</td>\n",
       "      <td>527</td>\n",
       "    </tr>\n",
       "    <tr>\n",
       "      <th>153</th>\n",
       "      <td>Staff Shortage</td>\n",
       "      <td>Liverpool Lime Street - Manchester Piccadilly</td>\n",
       "      <td>145</td>\n",
       "    </tr>\n",
       "    <tr>\n",
       "      <th>287</th>\n",
       "      <td>Technical Issue</td>\n",
       "      <td>London Euston - Liverpool Lime Street</td>\n",
       "      <td>141</td>\n",
       "    </tr>\n",
       "    <tr>\n",
       "      <th>66</th>\n",
       "      <td>Signal failure</td>\n",
       "      <td>Birmingham New Street - London Euston</td>\n",
       "      <td>139</td>\n",
       "    </tr>\n",
       "    <tr>\n",
       "      <th>391</th>\n",
       "      <td>Weather</td>\n",
       "      <td>Birmingham New Street - London Euston</td>\n",
       "      <td>117</td>\n",
       "    </tr>\n",
       "    <tr>\n",
       "      <th>...</th>\n",
       "      <td>...</td>\n",
       "      <td>...</td>\n",
       "      <td>...</td>\n",
       "    </tr>\n",
       "    <tr>\n",
       "      <th>504</th>\n",
       "      <td>Weather Conditions</td>\n",
       "      <td>Peterborough - York</td>\n",
       "      <td>1</td>\n",
       "    </tr>\n",
       "    <tr>\n",
       "      <th>215</th>\n",
       "      <td>Staffing</td>\n",
       "      <td>Liverpool Lime Street - Birmingham New Street</td>\n",
       "      <td>1</td>\n",
       "    </tr>\n",
       "    <tr>\n",
       "      <th>230</th>\n",
       "      <td>Staffing</td>\n",
       "      <td>London Paddington - Reading</td>\n",
       "      <td>1</td>\n",
       "    </tr>\n",
       "    <tr>\n",
       "      <th>220</th>\n",
       "      <td>Staffing</td>\n",
       "      <td>Liverpool Lime Street - York</td>\n",
       "      <td>1</td>\n",
       "    </tr>\n",
       "    <tr>\n",
       "      <th>20</th>\n",
       "      <td>Signal Failure</td>\n",
       "      <td>Liverpool Lime Street - Birmingham New Street</td>\n",
       "      <td>1</td>\n",
       "    </tr>\n",
       "  </tbody>\n",
       "</table>\n",
       "<p>191 rows × 3 columns</p>\n",
       "</div>"
      ],
      "text/plain": [
       "       Reason_for_Delay                                  Route_Mapping  Count\n",
       "417             Weather          London Euston - Liverpool Lime Street    527\n",
       "153      Staff Shortage  Liverpool Lime Street - Manchester Piccadilly    145\n",
       "287     Technical Issue          London Euston - Liverpool Lime Street    141\n",
       "66       Signal failure          Birmingham New Street - London Euston    139\n",
       "391             Weather          Birmingham New Street - London Euston    117\n",
       "..                  ...                                            ...    ...\n",
       "504  Weather Conditions                            Peterborough - York      1\n",
       "215            Staffing  Liverpool Lime Street - Birmingham New Street      1\n",
       "230            Staffing                    London Paddington - Reading      1\n",
       "220            Staffing                   Liverpool Lime Street - York      1\n",
       "20       Signal Failure  Liverpool Lime Street - Birmingham New Street      1\n",
       "\n",
       "[191 rows x 3 columns]"
      ]
     },
     "execution_count": 200,
     "metadata": {},
     "output_type": "execute_result"
    }
   ],
   "source": [
    "outputs['routemap-delay'] = outputs['routemap-delay'].query(\"Count>0\").query('Reason_for_Delay!=\"No Delay\"').copy()\n",
    "outputs['routemap-delay']"
   ]
  },
  {
   "cell_type": "code",
   "execution_count": 206,
   "id": "26857efc",
   "metadata": {},
   "outputs": [
    {
     "data": {
      "text/html": [
       "<div>\n",
       "<style scoped>\n",
       "    .dataframe tbody tr th:only-of-type {\n",
       "        vertical-align: middle;\n",
       "    }\n",
       "\n",
       "    .dataframe tbody tr th {\n",
       "        vertical-align: top;\n",
       "    }\n",
       "\n",
       "    .dataframe thead th {\n",
       "        text-align: right;\n",
       "    }\n",
       "</style>\n",
       "<table border=\"1\" class=\"dataframe\">\n",
       "  <thead>\n",
       "    <tr style=\"text-align: right;\">\n",
       "      <th></th>\n",
       "      <th>Route_Mapping</th>\n",
       "      <th>Count</th>\n",
       "    </tr>\n",
       "  </thead>\n",
       "  <tbody>\n",
       "    <tr>\n",
       "      <th>0</th>\n",
       "      <td>London Euston - Liverpool Lime Street</td>\n",
       "      <td>879</td>\n",
       "    </tr>\n",
       "    <tr>\n",
       "      <th>1</th>\n",
       "      <td>Liverpool Lime Street - Manchester Piccadilly</td>\n",
       "      <td>644</td>\n",
       "    </tr>\n",
       "    <tr>\n",
       "      <th>2</th>\n",
       "      <td>Birmingham New Street - London Euston</td>\n",
       "      <td>453</td>\n",
       "    </tr>\n",
       "    <tr>\n",
       "      <th>3</th>\n",
       "      <td>Reading - London Paddington</td>\n",
       "      <td>352</td>\n",
       "    </tr>\n",
       "    <tr>\n",
       "      <th>4</th>\n",
       "      <td>York - London Kings Cross</td>\n",
       "      <td>329</td>\n",
       "    </tr>\n",
       "    <tr>\n",
       "      <th>5</th>\n",
       "      <td>Birmingham New Street - London St Pancras</td>\n",
       "      <td>273</td>\n",
       "    </tr>\n",
       "    <tr>\n",
       "      <th>6</th>\n",
       "      <td>London Euston - Manchester Piccadilly</td>\n",
       "      <td>243</td>\n",
       "    </tr>\n",
       "    <tr>\n",
       "      <th>7</th>\n",
       "      <td>Manchester Piccadilly - Liverpool Lime Street</td>\n",
       "      <td>231</td>\n",
       "    </tr>\n",
       "    <tr>\n",
       "      <th>8</th>\n",
       "      <td>Manchester Piccadilly - Birmingham New Street</td>\n",
       "      <td>114</td>\n",
       "    </tr>\n",
       "    <tr>\n",
       "      <th>9</th>\n",
       "      <td>Leeds - Manchester Piccadilly</td>\n",
       "      <td>65</td>\n",
       "    </tr>\n",
       "  </tbody>\n",
       "</table>\n",
       "</div>"
      ],
      "text/plain": [
       "                                   Route_Mapping  Count\n",
       "0          London Euston - Liverpool Lime Street    879\n",
       "1  Liverpool Lime Street - Manchester Piccadilly    644\n",
       "2          Birmingham New Street - London Euston    453\n",
       "3                    Reading - London Paddington    352\n",
       "4                      York - London Kings Cross    329\n",
       "5      Birmingham New Street - London St Pancras    273\n",
       "6          London Euston - Manchester Piccadilly    243\n",
       "7  Manchester Piccadilly - Liverpool Lime Street    231\n",
       "8  Manchester Piccadilly - Birmingham New Street    114\n",
       "9                  Leeds - Manchester Piccadilly     65"
      ]
     },
     "execution_count": 206,
     "metadata": {},
     "output_type": "execute_result"
    }
   ],
   "source": [
    "outputs['routemap-delay'] = outputs['routemap-delay'].groupby('Route_Mapping')['Count'].sum().sort_values(ascending= False).reset_index()\n",
    "outputs['routemap-delay'].head(10)"
   ]
  },
  {
   "cell_type": "code",
   "execution_count": 26,
   "id": "59c54ffe",
   "metadata": {},
   "outputs": [
    {
     "data": {
      "text/plain": [
       "0            London Euston - Liverpool Lime Street\n",
       "1    Liverpool Lime Street - Manchester Piccadilly\n",
       "2            Birmingham New Street - London Euston\n",
       "3                      Reading - London Paddington\n",
       "4                        York - London Kings Cross\n",
       "5        Birmingham New Street - London St Pancras\n",
       "6            London Euston - Manchester Piccadilly\n",
       "7    Manchester Piccadilly - Liverpool Lime Street\n",
       "8    Manchester Piccadilly - Birmingham New Street\n",
       "9                    Leeds - Manchester Piccadilly\n",
       "Name: Route_Mapping, dtype: object"
      ]
     },
     "execution_count": 26,
     "metadata": {},
     "output_type": "execute_result"
    }
   ],
   "source": [
    "outputs['routemap-delay']['Route_Mapping'].head(10)"
   ]
  },
  {
   "cell_type": "markdown",
   "id": "520ed09a",
   "metadata": {},
   "source": [
    "The above are the top 10 Route Mapping that having delays for the various reasons"
   ]
  },
  {
   "cell_type": "markdown",
   "id": "a7606b83",
   "metadata": {},
   "source": [
    "Here are the reasons for them"
   ]
  },
  {
   "cell_type": "code",
   "execution_count": 220,
   "id": "6b15b673",
   "metadata": {},
   "outputs": [],
   "source": [
    "df_delay = df[df['Reason_for_Delay']!='No Delay'].copy()"
   ]
  },
  {
   "cell_type": "code",
   "execution_count": 223,
   "id": "cd49e69c",
   "metadata": {},
   "outputs": [
    {
     "data": {
      "text/plain": [
       "<AxesSubplot:xlabel='Reason_for_Delay', ylabel='Route_Mapping'>"
      ]
     },
     "execution_count": 223,
     "metadata": {},
     "output_type": "execute_result"
    },
    {
     "data": {
      "image/png": "[encoded data removed]",
      "text/plain": [
       "<Figure size 640x480 with 2 Axes>"
      ]
     },
     "metadata": {},
     "output_type": "display_data"
    }
   ],
   "source": [
    "#lets explore more\n",
    "#lets check which routes are having more issues with ontime performance\n",
    "cmap = sns.cm.rocket_r \n",
    "outputs['routemap-delay_crosstab'] = pd.crosstab(index = df_delay['Route_Mapping'], columns = df_delay['Reason_for_Delay'])\n",
    "sns.heatmap(outputs['routemap-delay_crosstab'], cmap=cmap)"
   ]
  },
  {
   "cell_type": "code",
   "execution_count": 226,
   "id": "d75072a8",
   "metadata": {},
   "outputs": [],
   "source": [
    "import pickle\n",
    "with open('outputs.pkl','rb') as f:\n",
    "    outputs1 = pickle.load(f )"
   ]
  },
  {
   "cell_type": "code",
   "execution_count": 227,
   "id": "95929086",
   "metadata": {},
   "outputs": [
    {
     "data": {
      "text/plain": [
       "dict_keys(['Top 5 Arrival Stations', 'Top 5 Departure Stations', 'Routes', 'Peak Travel Months', 'Peak Travel Weeks', 'Peak Travel Hours', 'peak travel times', 'revenue_by_class', 'revenue_by_type', 'revenue_by_class_and_type', 'revenue_by_class_and_type_crosstab', 'On-Time Performance', 'Reason_for_Delay', 'routemap-delay', 'routemap-delay_crosstab'])"
      ]
     },
     "execution_count": 227,
     "metadata": {},
     "output_type": "execute_result"
    }
   ],
   "source": [
    "outputs1.keys()"
   ]
  },
  {
   "cell_type": "markdown",
   "id": "5f2a56b0",
   "metadata": {},
   "source": [
    "## Findings:"
   ]
  },
  {
   "attachments": {
    "image.png": {
     "image/png": "[encoded data removed]"
    }
   },
   "cell_type": "markdown",
   "id": "3724b618",
   "metadata": {},
   "source": [
    "**Findings1: Identify the most popular routes**\n",
    "\n",
    "> `Birmingham New Street`  is top Arrival Station\n",
    "\n",
    "> `Manchester Piccadilly` is the top  Departure station\n",
    "\n",
    "> Top 10 most popular routes:\n",
    "> ![image.png](attachment:image.png)\n",
    "\n"
   ]
  },
  {
   "cell_type": "markdown",
   "id": "37b7f1a7",
   "metadata": {},
   "source": [
    "**Findings2: Determine peak travel times**\n",
    "\n",
    "> The peak travelling times are as in the following order where Morning is in the first and Early morning is in the last position: (Day is divided into 4 parts)\n",
    "> `Morning          34.70%`\n",
    "> `Afternoon         29.42%`\n",
    "> `Evening/Night     20.88%`\n",
    "> `Early Morning     15.00%`\n",
    "\n",
    "> `March & January` are the top travelling months\n",
    "\n",
    "> `6 PM & 6 AM` are the busiest travelling hours\n",
    "\n"
   ]
  },
  {
   "cell_type": "markdown",
   "id": "c922f3ef",
   "metadata": {},
   "source": [
    "**Findings3: 3. Analyze revenue from different ticket types & classes**\n",
    "> Revenue for Standard class is high compared to First Class, and as well as the number of passenger who bought the ticket & around 50% of the passengers in both Ticket Classes are Railcard holders. So it wont be a factor for low prices in First Class transactions\n",
    "\n",
    "> The revenue for Advance & Off Peak booking is high compared to Anytime - This is interesting because Both have discounts/offer for the price but not for Anytime category. The reason for high revenue could be the no of passenger count in each Ticket Type. Also There are `66%` of the passangers are having Railcard from Anytime category so this could be one of the factors for low revenue from Anytime category \n",
    "\n",
    ">Combination: The Standard Class with Advance Type Bookings are high compared to other"
   ]
  },
  {
   "attachments": {
    "image-2.png": {
     "image/png": "[encoded data removed]"
    },
    "image-3.png": {
     "image/png": "[encoded data removed]"
    },
    "image.png": {
     "image/png": "[encoded data removed]"
    }
   },
   "cell_type": "markdown",
   "id": "0ab8ba18",
   "metadata": {},
   "source": [
    "**Findings 4. Diagnose on-time performance and contributing factors**\n",
    "\n",
    "> Most of the trains are `On-Time with 86.82%` only `7.24% are delayed` and rest of the percentage are from cancelled trains\n",
    "\n",
    "> **Contributing factors for the train delay**\n",
    "in percentages: Weather is the primary factor for the delays\n",
    "![image.png](attachment:image.png)\n",
    "\n",
    "> **Top 10 Routes that are havings train delays**\n",
    "![image-2.png](attachment:image-2.png)\n",
    "\n",
    "Reasons in detail:\n",
    "\n",
    "![image-3.png](attachment:image-3.png)"
   ]
  },
  {
   "cell_type": "code",
   "execution_count": 22,
   "id": "db233573",
   "metadata": {},
   "outputs": [
    {
     "data": {
      "text/plain": [
       "0           33\n",
       "1           31\n",
       "2          151\n",
       "3           58\n",
       "4           47\n",
       "         ...  \n",
       "31648    19845\n",
       "31649    19847\n",
       "31650    19849\n",
       "31651    19855\n",
       "31652    19858\n",
       "Length: 31653, dtype: int64"
      ]
     },
     "execution_count": 22,
     "metadata": {},
     "output_type": "execute_result"
    }
   ],
   "source": [
    "trains = df.groupby(['Departure_Time','Route_Mapping']).ngroup()\n",
    "trains"
   ]
  },
  {
   "cell_type": "code",
   "execution_count": 19,
   "id": "9e07771e",
   "metadata": {},
   "outputs": [
    {
     "data": {
      "text/plain": [
       "11782"
      ]
     },
     "execution_count": 19,
     "metadata": {},
     "output_type": "execute_result"
    }
   ],
   "source": [
    "df.shape[0]-trains['Transaction_ID'].shape[0]"
   ]
  },
  {
   "cell_type": "code",
   "execution_count": 14,
   "id": "dbbdd753",
   "metadata": {},
   "outputs": [
    {
     "data": {
      "text/plain": [
       "19871"
      ]
     },
     "execution_count": 14,
     "metadata": {},
     "output_type": "execute_result"
    }
   ],
   "source": []
  },
  {
   "cell_type": "code",
   "execution_count": 13,
   "id": "86566e08",
   "metadata": {},
   "outputs": [
    {
     "data": {
      "text/html": [
       "<div>\n",
       "<style scoped>\n",
       "    .dataframe tbody tr th:only-of-type {\n",
       "        vertical-align: middle;\n",
       "    }\n",
       "\n",
       "    .dataframe tbody tr th {\n",
       "        vertical-align: top;\n",
       "    }\n",
       "\n",
       "    .dataframe thead th {\n",
       "        text-align: right;\n",
       "    }\n",
       "</style>\n",
       "<table border=\"1\" class=\"dataframe\">\n",
       "  <thead>\n",
       "    <tr style=\"text-align: right;\">\n",
       "      <th></th>\n",
       "      <th>Departure_Time</th>\n",
       "      <th>Route_Mapping</th>\n",
       "      <th>Transaction_ID</th>\n",
       "    </tr>\n",
       "  </thead>\n",
       "  <tbody>\n",
       "    <tr>\n",
       "      <th>13</th>\n",
       "      <td>2024-01-01 06:15:00</td>\n",
       "      <td>York - London Kings Cross</td>\n",
       "      <td>2</td>\n",
       "    </tr>\n",
       "    <tr>\n",
       "      <th>15</th>\n",
       "      <td>2024-01-01 06:30:00</td>\n",
       "      <td>London St Pancras - Birmingham New Street</td>\n",
       "      <td>2</td>\n",
       "    </tr>\n",
       "    <tr>\n",
       "      <th>20</th>\n",
       "      <td>2024-01-01 07:30:00</td>\n",
       "      <td>York - London Kings Cross</td>\n",
       "      <td>2</td>\n",
       "    </tr>\n",
       "    <tr>\n",
       "      <th>21</th>\n",
       "      <td>2024-01-01 07:45:00</td>\n",
       "      <td>Reading - London Paddington</td>\n",
       "      <td>3</td>\n",
       "    </tr>\n",
       "    <tr>\n",
       "      <th>63</th>\n",
       "      <td>2024-01-02 01:45:00</td>\n",
       "      <td>Durham - York</td>\n",
       "      <td>2</td>\n",
       "    </tr>\n",
       "    <tr>\n",
       "      <th>...</th>\n",
       "      <td>...</td>\n",
       "      <td>...</td>\n",
       "      <td>...</td>\n",
       "    </tr>\n",
       "    <tr>\n",
       "      <th>19840</th>\n",
       "      <td>2024-04-30 18:45:00</td>\n",
       "      <td>Manchester Piccadilly - London Euston</td>\n",
       "      <td>2</td>\n",
       "    </tr>\n",
       "    <tr>\n",
       "      <th>19841</th>\n",
       "      <td>2024-04-30 18:45:00</td>\n",
       "      <td>Reading - London Paddington</td>\n",
       "      <td>2</td>\n",
       "    </tr>\n",
       "    <tr>\n",
       "      <th>19846</th>\n",
       "      <td>2024-04-30 20:00:00</td>\n",
       "      <td>Reading - London Paddington</td>\n",
       "      <td>2</td>\n",
       "    </tr>\n",
       "    <tr>\n",
       "      <th>19853</th>\n",
       "      <td>2024-04-30 21:00:00</td>\n",
       "      <td>Birmingham New Street - London Euston</td>\n",
       "      <td>2</td>\n",
       "    </tr>\n",
       "    <tr>\n",
       "      <th>19859</th>\n",
       "      <td>2024-04-30 21:30:00</td>\n",
       "      <td>Reading - London Paddington</td>\n",
       "      <td>2</td>\n",
       "    </tr>\n",
       "  </tbody>\n",
       "</table>\n",
       "<p>6167 rows × 3 columns</p>\n",
       "</div>"
      ],
      "text/plain": [
       "           Departure_Time                              Route_Mapping  \\\n",
       "13    2024-01-01 06:15:00                  York - London Kings Cross   \n",
       "15    2024-01-01 06:30:00  London St Pancras - Birmingham New Street   \n",
       "20    2024-01-01 07:30:00                  York - London Kings Cross   \n",
       "21    2024-01-01 07:45:00                Reading - London Paddington   \n",
       "63    2024-01-02 01:45:00                              Durham - York   \n",
       "...                   ...                                        ...   \n",
       "19840 2024-04-30 18:45:00      Manchester Piccadilly - London Euston   \n",
       "19841 2024-04-30 18:45:00                Reading - London Paddington   \n",
       "19846 2024-04-30 20:00:00                Reading - London Paddington   \n",
       "19853 2024-04-30 21:00:00      Birmingham New Street - London Euston   \n",
       "19859 2024-04-30 21:30:00                Reading - London Paddington   \n",
       "\n",
       "       Transaction_ID  \n",
       "13                  2  \n",
       "15                  2  \n",
       "20                  2  \n",
       "21                  3  \n",
       "63                  2  \n",
       "...               ...  \n",
       "19840               2  \n",
       "19841               2  \n",
       "19846               2  \n",
       "19853               2  \n",
       "19859               2  \n",
       "\n",
       "[6167 rows x 3 columns]"
      ]
     },
     "execution_count": 13,
     "metadata": {},
     "output_type": "execute_result"
    }
   ],
   "source": [
    "trains[trains['Transaction_ID']>1]"
   ]
  },
  {
   "cell_type": "code",
   "execution_count": 20,
   "id": "5ef0869a",
   "metadata": {},
   "outputs": [
    {
     "data": {
      "text/html": [
       "<div>\n",
       "<style scoped>\n",
       "    .dataframe tbody tr th:only-of-type {\n",
       "        vertical-align: middle;\n",
       "    }\n",
       "\n",
       "    .dataframe tbody tr th {\n",
       "        vertical-align: top;\n",
       "    }\n",
       "\n",
       "    .dataframe thead th {\n",
       "        text-align: right;\n",
       "    }\n",
       "</style>\n",
       "<table border=\"1\" class=\"dataframe\">\n",
       "  <thead>\n",
       "    <tr style=\"text-align: right;\">\n",
       "      <th></th>\n",
       "      <th>Transaction_ID</th>\n",
       "      <th>Date_of_Purchase</th>\n",
       "      <th>Time_of_Purchase</th>\n",
       "      <th>Purchase_Type</th>\n",
       "      <th>Payment_Method</th>\n",
       "      <th>Railcard</th>\n",
       "      <th>Ticket_Class</th>\n",
       "      <th>Ticket_Type</th>\n",
       "      <th>Price</th>\n",
       "      <th>Departure_Station</th>\n",
       "      <th>Arrival_Destination</th>\n",
       "      <th>Date_of_Journey</th>\n",
       "      <th>Departure_Time</th>\n",
       "      <th>Arrival_Time</th>\n",
       "      <th>Actual_Arrival_Time</th>\n",
       "      <th>Journey_Status</th>\n",
       "      <th>Reason_for_Delay</th>\n",
       "      <th>Refund_Request</th>\n",
       "      <th>Route_Mapping</th>\n",
       "      <th>Travel_Time_Segment</th>\n",
       "    </tr>\n",
       "  </thead>\n",
       "  <tbody>\n",
       "    <tr>\n",
       "      <th>0</th>\n",
       "      <td>da8a6ba8-b3dc-4677-b176</td>\n",
       "      <td>2023-12-08</td>\n",
       "      <td>2023-12-08 12:41:11</td>\n",
       "      <td>Online</td>\n",
       "      <td>Contactless</td>\n",
       "      <td>Adult</td>\n",
       "      <td>Standard</td>\n",
       "      <td>Advance</td>\n",
       "      <td>43</td>\n",
       "      <td>London Paddington</td>\n",
       "      <td>Liverpool Lime Street</td>\n",
       "      <td>2024-01-01</td>\n",
       "      <td>2024-01-01 11:00:00</td>\n",
       "      <td>2024-01-01 13:30:00</td>\n",
       "      <td>2024-01-01 13:30:00</td>\n",
       "      <td>On Time</td>\n",
       "      <td>No Delay</td>\n",
       "      <td>No</td>\n",
       "      <td>Liverpool Lime Street - London Paddington</td>\n",
       "      <td>Morning</td>\n",
       "    </tr>\n",
       "    <tr>\n",
       "      <th>1</th>\n",
       "      <td>b0cdd1b0-f214-4197-be53</td>\n",
       "      <td>2023-12-16</td>\n",
       "      <td>2023-12-16 11:23:01</td>\n",
       "      <td>Station</td>\n",
       "      <td>Credit Card</td>\n",
       "      <td>Adult</td>\n",
       "      <td>Standard</td>\n",
       "      <td>Advance</td>\n",
       "      <td>23</td>\n",
       "      <td>London Kings Cross</td>\n",
       "      <td>York</td>\n",
       "      <td>2024-01-01</td>\n",
       "      <td>2024-01-01 09:45:00</td>\n",
       "      <td>2024-01-01 11:35:00</td>\n",
       "      <td>2024-01-01 11:40:00</td>\n",
       "      <td>Delayed</td>\n",
       "      <td>Signal Failure</td>\n",
       "      <td>No</td>\n",
       "      <td>York - London Kings Cross</td>\n",
       "      <td>Morning</td>\n",
       "    </tr>\n",
       "    <tr>\n",
       "      <th>2</th>\n",
       "      <td>f3ba7a96-f713-40d9-9629</td>\n",
       "      <td>2023-12-19</td>\n",
       "      <td>2023-12-19 19:51:27</td>\n",
       "      <td>Online</td>\n",
       "      <td>Credit Card</td>\n",
       "      <td>None</td>\n",
       "      <td>Standard</td>\n",
       "      <td>Advance</td>\n",
       "      <td>3</td>\n",
       "      <td>Liverpool Lime Street</td>\n",
       "      <td>Manchester Piccadilly</td>\n",
       "      <td>2024-01-02</td>\n",
       "      <td>2024-01-02 18:15:00</td>\n",
       "      <td>2024-01-02 18:45:00</td>\n",
       "      <td>2024-01-02 18:45:00</td>\n",
       "      <td>On Time</td>\n",
       "      <td>No Delay</td>\n",
       "      <td>No</td>\n",
       "      <td>Manchester Piccadilly - Liverpool Lime Street</td>\n",
       "      <td>Evening/Night</td>\n",
       "    </tr>\n",
       "    <tr>\n",
       "      <th>3</th>\n",
       "      <td>b2471f11-4fe7-4c87-8ab4</td>\n",
       "      <td>2023-12-20</td>\n",
       "      <td>2023-12-20 23:00:36</td>\n",
       "      <td>Station</td>\n",
       "      <td>Credit Card</td>\n",
       "      <td>None</td>\n",
       "      <td>Standard</td>\n",
       "      <td>Advance</td>\n",
       "      <td>13</td>\n",
       "      <td>London Paddington</td>\n",
       "      <td>Reading</td>\n",
       "      <td>2024-01-01</td>\n",
       "      <td>2024-01-01 21:30:00</td>\n",
       "      <td>2024-01-01 22:30:00</td>\n",
       "      <td>2024-01-01 22:30:00</td>\n",
       "      <td>On Time</td>\n",
       "      <td>No Delay</td>\n",
       "      <td>No</td>\n",
       "      <td>Reading - London Paddington</td>\n",
       "      <td>Evening/Night</td>\n",
       "    </tr>\n",
       "    <tr>\n",
       "      <th>4</th>\n",
       "      <td>2be00b45-0762-485e-a7a3</td>\n",
       "      <td>2023-12-27</td>\n",
       "      <td>2023-12-27 18:22:56</td>\n",
       "      <td>Online</td>\n",
       "      <td>Contactless</td>\n",
       "      <td>None</td>\n",
       "      <td>Standard</td>\n",
       "      <td>Advance</td>\n",
       "      <td>76</td>\n",
       "      <td>Liverpool Lime Street</td>\n",
       "      <td>London Euston</td>\n",
       "      <td>2024-01-01</td>\n",
       "      <td>2024-01-01 16:45:00</td>\n",
       "      <td>2024-01-01 19:00:00</td>\n",
       "      <td>2024-01-01 19:00:00</td>\n",
       "      <td>On Time</td>\n",
       "      <td>No Delay</td>\n",
       "      <td>No</td>\n",
       "      <td>London Euston - Liverpool Lime Street</td>\n",
       "      <td>Afternoon</td>\n",
       "    </tr>\n",
       "  </tbody>\n",
       "</table>\n",
       "</div>"
      ],
      "text/plain": [
       "            Transaction_ID Date_of_Purchase    Time_of_Purchase Purchase_Type  \\\n",
       "0  da8a6ba8-b3dc-4677-b176       2023-12-08 2023-12-08 12:41:11        Online   \n",
       "1  b0cdd1b0-f214-4197-be53       2023-12-16 2023-12-16 11:23:01       Station   \n",
       "2  f3ba7a96-f713-40d9-9629       2023-12-19 2023-12-19 19:51:27        Online   \n",
       "3  b2471f11-4fe7-4c87-8ab4       2023-12-20 2023-12-20 23:00:36       Station   \n",
       "4  2be00b45-0762-485e-a7a3       2023-12-27 2023-12-27 18:22:56        Online   \n",
       "\n",
       "  Payment_Method Railcard Ticket_Class Ticket_Type  Price  \\\n",
       "0    Contactless    Adult     Standard     Advance     43   \n",
       "1    Credit Card    Adult     Standard     Advance     23   \n",
       "2    Credit Card     None     Standard     Advance      3   \n",
       "3    Credit Card     None     Standard     Advance     13   \n",
       "4    Contactless     None     Standard     Advance     76   \n",
       "\n",
       "       Departure_Station    Arrival_Destination Date_of_Journey  \\\n",
       "0      London Paddington  Liverpool Lime Street      2024-01-01   \n",
       "1     London Kings Cross                   York      2024-01-01   \n",
       "2  Liverpool Lime Street  Manchester Piccadilly      2024-01-02   \n",
       "3      London Paddington                Reading      2024-01-01   \n",
       "4  Liverpool Lime Street          London Euston      2024-01-01   \n",
       "\n",
       "       Departure_Time        Arrival_Time Actual_Arrival_Time Journey_Status  \\\n",
       "0 2024-01-01 11:00:00 2024-01-01 13:30:00 2024-01-01 13:30:00        On Time   \n",
       "1 2024-01-01 09:45:00 2024-01-01 11:35:00 2024-01-01 11:40:00        Delayed   \n",
       "2 2024-01-02 18:15:00 2024-01-02 18:45:00 2024-01-02 18:45:00        On Time   \n",
       "3 2024-01-01 21:30:00 2024-01-01 22:30:00 2024-01-01 22:30:00        On Time   \n",
       "4 2024-01-01 16:45:00 2024-01-01 19:00:00 2024-01-01 19:00:00        On Time   \n",
       "\n",
       "  Reason_for_Delay Refund_Request  \\\n",
       "0         No Delay             No   \n",
       "1   Signal Failure             No   \n",
       "2         No Delay             No   \n",
       "3         No Delay             No   \n",
       "4         No Delay             No   \n",
       "\n",
       "                                   Route_Mapping Travel_Time_Segment  \n",
       "0      Liverpool Lime Street - London Paddington             Morning  \n",
       "1                      York - London Kings Cross             Morning  \n",
       "2  Manchester Piccadilly - Liverpool Lime Street       Evening/Night  \n",
       "3                    Reading - London Paddington       Evening/Night  \n",
       "4          London Euston - Liverpool Lime Street           Afternoon  "
      ]
     },
     "execution_count": 20,
     "metadata": {},
     "output_type": "execute_result"
    }
   ],
   "source": [
    "df.head()"
   ]
  },
  {
   "cell_type": "code",
   "execution_count": null,
   "id": "69b2cc34",
   "metadata": {},
   "outputs": [],
   "source": []
  }
 ],
 "metadata": {
  "kernelspec": {
   "display_name": "Python 3 (ipykernel)",
   "language": "python",
   "name": "python3"
  },
  "language_info": {
   "codemirror_mode": {
    "name": "ipython",
    "version": 3
   },
   "file_extension": ".py",
   "mimetype": "text/x-python",
   "name": "python",
   "nbconvert_exporter": "python",
   "pygments_lexer": "ipython3",
   "version": "3.9.13"
  }
 },
 "nbformat": 4,
 "nbformat_minor": 5
}
